{
  "cells": [
    {
      "cell_type": "markdown",
      "metadata": {},
      "source": [
        "\n# Plot the spectrum of a transiting planet\n\nThis example runs VSPEC with a transiting planet scenario.\n"
      ]
    },
    {
      "cell_type": "code",
      "execution_count": null,
      "metadata": {
        "collapsed": false
      },
      "outputs": [],
      "source": [
        "from pathlib import Path\nimport numpy as np\nimport matplotlib.pyplot as plt\nimport pypsg\n\nfrom VSPEC import ObservationModel,PhaseAnalyzer\n\ntry:\n    CFG_PATH = Path(__file__).parent / 'transit_spectrum.yaml'\nexcept NameError:\n    CFG_PATH = Path('transit_spectrum.yaml')\n\npypsg.docker.set_url_and_run()"
      ]
    },
    {
      "cell_type": "markdown",
      "metadata": {},
      "source": [
        "## Initialize the VSPEC run\n\nWe read in the config file and run the model.\n\n"
      ]
    },
    {
      "cell_type": "code",
      "execution_count": null,
      "metadata": {
        "collapsed": false
      },
      "outputs": [],
      "source": [
        "model = ObservationModel.from_yaml(CFG_PATH)\nmodel.build_planet()\nmodel.build_spectra()"
      ]
    },
    {
      "cell_type": "markdown",
      "metadata": {},
      "source": [
        "## Load in the data\n\nWe can use VSPEC to read in the synthetic\ndata we just created.\n\n"
      ]
    },
    {
      "cell_type": "code",
      "execution_count": null,
      "metadata": {
        "collapsed": false
      },
      "outputs": [],
      "source": [
        "data = PhaseAnalyzer(model.directories['all_model'])"
      ]
    },
    {
      "cell_type": "markdown",
      "metadata": {},
      "source": [
        "## Calculate the transit depth\n\nSince this star model has no limb darkeing, no spots,\nand no noise, we don't need to fit a model to our data\nto extract the transit depth.\n\n"
      ]
    },
    {
      "cell_type": "code",
      "execution_count": null,
      "metadata": {
        "collapsed": false
      },
      "outputs": [],
      "source": [
        "cmb_data = data.total\ncontinuum = cmb_data[:,0] # the first epoch\ndata_min = np.min(cmb_data,axis=1)\ntransit_depth = (continuum-data_min)/continuum\nrp_rs = np.sqrt(transit_depth)\nwavelength = data.wavelength\n\nplt.plot(wavelength,rp_rs*100)\nplt.xlabel(f'Wavelength {wavelength.unit}')\nplt.ylabel(r'$\\frac{R_p}{R_*}$ (%)')"
      ]
    }
  ],
  "metadata": {
    "kernelspec": {
      "display_name": "Python 3",
      "language": "python",
      "name": "python3"
    },
    "language_info": {
      "codemirror_mode": {
        "name": "ipython",
        "version": 3
      },
      "file_extension": ".py",
      "mimetype": "text/x-python",
      "name": "python",
      "nbconvert_exporter": "python",
      "pygments_lexer": "ipython3",
      "version": "3.11.7"
    }
  },
  "nbformat": 4,
  "nbformat_minor": 0
}