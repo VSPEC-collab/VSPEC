{
  "cells": [
    {
      "cell_type": "markdown",
      "metadata": {},
      "source": [
        "\n# Plot the lightcurve stellar granulation\n\nThis example plots the lightcurve effects caused by granulation\non the surface of a star.\n"
      ]
    },
    {
      "cell_type": "code",
      "execution_count": null,
      "metadata": {
        "collapsed": false
      },
      "outputs": [],
      "source": [
        "from pathlib import Path\nfrom astropy import units as u\nimport matplotlib.pyplot as plt\nimport pypsg\n\nfrom VSPEC import ObservationModel,PhaseAnalyzer\nfrom VSPEC import params\nfrom VSPEC.params.gcm import vspec_to_pygcm\n\nSEED = 32\npypsg.docker.set_url_and_run()"
      ]
    },
    {
      "cell_type": "markdown",
      "metadata": {},
      "source": [
        "## Initialize the VSPEC run parameters\n\nFor this example, we will create the\nparameter objects explicitly. This can also\nbe done using a YAML file.\n\n"
      ]
    },
    {
      "cell_type": "code",
      "execution_count": null,
      "metadata": {
        "collapsed": false
      },
      "outputs": [],
      "source": [
        "header = params.Header(\n    data_path=Path('.vspec/granulation_lightcurve'),\n    teff_min=3000*u.K,\n    teff_max=3400*u.K,\n    seed=SEED,verbose=0\n)\nstar = params.StarParameters(\n    psg_star_template='M',\n    teff=3300*u.K,\n    mass = 0.1*u.M_sun,\n    radius=0.15*u.R_sun,\n    period = 10*u.day,\n    misalignment_dir=0*u.deg,\n    misalignment=0*u.deg,\n    ld = params.LimbDarkeningParameters.solar(),\n    faculae=params.FaculaParameters.none(),\n    spots=params.SpotParameters.none(),\n    flares=params.FlareParameters.none(),\n    granulation=params.GranulationParameters(\n        mean=0.2,\n        amp=0.005,\n        period=6*u.hr,\n        dteff=300*u.K\n    ),\n    grid_params=(500, 1000),\n    spectral_grid='default'\n)\nplanet = params.PlanetParameters.std(init_phase=180*u.deg,init_substellar_lon=0*u.deg)\nsystem = params.SystemParameters(\n    distance=1.3*u.pc,\n    inclination=30*u.deg,\n    phase_of_periasteron=0*u.deg\n)\nobservation = params.ObservationParameters(\n    observation_time=3*u.day,\n    integration_time=30*u.min\n)\npsg_params = params.psgParameters(\n    gcm_binning=200,\n    phase_binning=1,\n    use_molecular_signatures=True,\n    use_continuum_stellar=True,\n    nmax=0,\n    lmax=0,\n    continuum=['Rayleigh', 'Refraction', 'CIA_all'],\n)\ninstrument = params.InstrumentParameters.niriss_soss()\n\ndef gcm_getter():\n    return vspec_to_pygcm(\n        shape=(30,30,30),\n        epsilon=7,\n        star_teff=3800*u.K,\n        r_star=0.2*u.R_sun,\n        r_orbit=0.05*u.AU,\n        lat_redistribution=0.0,\n        p_surf=1*u.bar,\n        p_stop=1e-5*u.bar,\n        wind_u=0*u.km/u.s,\n        wind_v=0*u.km/u.s,\n        albedo=0.3,\n        emissivity=1.0,\n        gamma=1.4,\n        molecules={'CO2':1e-4}\n    )\ngcm = params.gcmParameters(\n    gcm_getter=gcm_getter,\n    mean_molec_weight=28,\n    is_static=True\n)\n\nparameters = params.InternalParameters(\n    header = header,\n    star = star,\n    planet = planet,\n    system = system,\n    obs=observation,\n    psg = psg_params,\n    inst=instrument,\n    gcm = gcm\n)"
      ]
    },
    {
      "cell_type": "markdown",
      "metadata": {},
      "source": [
        "## Run the simulation\n\n\n"
      ]
    },
    {
      "cell_type": "code",
      "execution_count": null,
      "metadata": {
        "collapsed": false
      },
      "outputs": [],
      "source": [
        "model = ObservationModel(params=parameters)\nmodel.build_planet()\nmodel.build_spectra()"
      ]
    },
    {
      "cell_type": "markdown",
      "metadata": {},
      "source": [
        "## Load in the data\n\nWe can use VSPEC to read in the synthetic\ndata we just created.\n\n"
      ]
    },
    {
      "cell_type": "code",
      "execution_count": null,
      "metadata": {
        "collapsed": false
      },
      "outputs": [],
      "source": [
        "data = PhaseAnalyzer(model.directories['all_model'])\n\nwl_pixels = [0,300,500,700]\ntime = data.time.to(u.day)\nfor i in wl_pixels:\n    wl = data.wavelength[i]\n    lc = data.lightcurve(\n        source='star',\n        pixel=i,\n        normalize=0\n    )\n    plt.plot(time,lc,label=f'{wl:.1f}')\nplt.legend()\nplt.xlabel(f'time ({time.unit})')\n_=plt.ylabel('Flux (normalized)')"
      ]
    }
  ],
  "metadata": {
    "kernelspec": {
      "display_name": "Python 3",
      "language": "python",
      "name": "python3"
    },
    "language_info": {
      "codemirror_mode": {
        "name": "ipython",
        "version": 3
      },
      "file_extension": ".py",
      "mimetype": "text/x-python",
      "name": "python",
      "nbconvert_exporter": "python",
      "pygments_lexer": "ipython3",
      "version": "3.11.7"
    }
  },
  "nbformat": 4,
  "nbformat_minor": 0
}