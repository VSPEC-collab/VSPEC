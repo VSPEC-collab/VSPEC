{
  "cells": [
    {
      "cell_type": "markdown",
      "metadata": {},
      "source": [
        "\n# Observe the MIRECLE Phase Curve of Proxima Centauri b\n\nThis example observes the closest exoplanet with the Mid-Infrared\nExoplanet CLimate Explorer.\n"
      ]
    },
    {
      "cell_type": "code",
      "execution_count": null,
      "metadata": {
        "collapsed": false
      },
      "outputs": [],
      "source": [
        "from pathlib import Path\nimport numpy as np\nimport matplotlib.pyplot as plt\nfrom astropy import units as u\nimport libpypsg\n\nfrom VSPEC import ObservationModel,PhaseAnalyzer\nfrom VSPEC import params\n\nSEED = 10\nlibpypsg.docker.set_url_and_run()"
      ]
    },
    {
      "cell_type": "markdown",
      "metadata": {},
      "source": [
        "## Create the needed configurations\n\nMIRECLE is described in :cite:t:`2022AJ....164..176M`\n\n"
      ]
    },
    {
      "cell_type": "code",
      "execution_count": null,
      "metadata": {
        "collapsed": false
      },
      "outputs": [],
      "source": [
        "# Instrument\ninst = params.InstrumentParameters.mirecle()\n\n# Observation\n\nobservation = params.ObservationParameters(\n    observation_time=12*u.day,\n    integration_time=8*u.hr\n)\n\n# PSG\npsg_params = params.psgParameters(\n    use_molecular_signatures=True,\n    gcm_binning=200,\n    phase_binning=1,\n    use_continuum_stellar=True,\n    nmax=0,\n    lmax=0,\n    continuum=['Rayleigh', 'Refraction','CIA_all'],\n    )\n# Star and Planet\n\nstar_teff = 2900*u.K\nstar_rad = 0.141*u.R_sun\ninclination = 85*u.deg\nplanet_mass = 1.07*u.M_earth/np.sin(inclination)\nplanet_rad = 1*u.R_earth * planet_mass.to_value(u.M_earth)**3\norbit_rad = 0.04856*u.AU\norbit_period = 11.18*u.day\nplanet_rot_period = orbit_period\nstar_rot_period = 90*u.day\nplanet_mass = 1.07*u.M_earth\nstar_mass = 0.122*u.M_sun\n\n\n\ninitial_phase = 180*u.deg\n\nplanet_params = params.PlanetParameters(\n    name='proxcenb',\n    radius=planet_rad,\n    gravity=params.GravityParameters('kg',planet_mass),\n    semimajor_axis=orbit_rad,\n    orbit_period=orbit_period,\n    rotation_period=planet_rot_period,\n    eccentricity=0,\n    obliquity=0*u.deg,\n    obliquity_direction=0*u.deg,\n    init_phase=initial_phase,\n    init_substellar_lon=0*u.deg\n)\n\nsystem_params = params.SystemParameters(\n    distance=1.3*u.pc,\n    inclination=inclination,\n    phase_of_periastron=0*u.deg\n)\n\n\nstar_dict = {\n    'teff': star_teff,\n    'radius': star_rad\n}\nplanet_dict = {'semimajor_axis': orbit_rad}\n\ngcm_dict = {\n    'nlayer': 30,\n    'nlon': 30,\n    'nlat': 15,\n    'epsilon': 1.5,\n    'albedo': 0.3,\n    'emissivity': 1.0,\n    'lat_redistribution': 0.5,\n    'gamma': 1.4,\n    'psurf': 1*u.bar,\n    'ptop': 1e-8*u.bar,\n    'wind': {'U': '0 m/s','V':'0 m/s'},\n    'molecules':{'CO2':1e-4}\n}\n\ngcm_params = params.gcmParameters.from_dict({\n    'star':star_dict,\n    'planet':planet_dict,\n    'gcm':{'vspec':gcm_dict,'mean_molec_weight':28}\n})\nquiet_star = params.StarParameters(\n    spots=params.SpotParameters.none(),\n    psg_star_template='M',\n    teff=star_teff,\n    mass=star_mass,\n    radius=star_rad,\n    period=star_rot_period,\n    misalignment=0*u.deg,\n    misalignment_dir=0*u.deg,\n    ld=params.LimbDarkeningParameters.proxima(),\n    faculae=params.FaculaParameters.none(),\n    flares=params.FlareParameters.none(),\n    granulation=params.GranulationParameters.none(),\n    grid_params=(500, 1000),\n)\n\n# Set parameters for simulation\n\ninternal_params = params.InternalParameters(\n    header=params.Header(\n        data_path=Path('.vspec/proxcenb'),\n        spec_grid = params.VSPECGridParameters(\n            max_teff=3400*u.K,min_teff=2300*u.K,\n            impl_bin='rust',impl_interp='scipy',fail_on_missing=False\n        ),\n        seed = SEED),\n    star = quiet_star,\n    psg=psg_params,\n    planet=planet_params,\n    system=system_params,\n    obs=observation,\n    gcm=gcm_params,\n    inst=inst\n)"
      ]
    },
    {
      "cell_type": "markdown",
      "metadata": {},
      "source": [
        "## Run VSPEC\n\nWe read in the config file and run the model.\n\n"
      ]
    },
    {
      "cell_type": "code",
      "execution_count": null,
      "metadata": {
        "collapsed": false
      },
      "outputs": [],
      "source": [
        "model = ObservationModel(internal_params)\nmodel.build_planet()\nmodel.build_spectra()"
      ]
    },
    {
      "cell_type": "markdown",
      "metadata": {},
      "source": [
        "## Load in the data\n\nWe can use VSPEC to read in the synthetic\ndata we just created.\n\n"
      ]
    },
    {
      "cell_type": "code",
      "execution_count": null,
      "metadata": {
        "collapsed": false
      },
      "outputs": [],
      "source": [
        "data = PhaseAnalyzer(model.directories['all_model'])"
      ]
    },
    {
      "cell_type": "markdown",
      "metadata": {},
      "source": [
        "## Plot the phase curve\n\n\n"
      ]
    },
    {
      "cell_type": "code",
      "execution_count": null,
      "metadata": {
        "collapsed": false
      },
      "outputs": [],
      "source": [
        "fig,ax = plt.subplots(1,1,figsize=(4,4),tight_layout=True)\n\nemission = (data.thermal/data.total).to_value(u.dimensionless_unscaled)*1e6\nnoise = (data.noise/data.total).to_value(u.dimensionless_unscaled)*1e6\nsim_noise = model.rng.normal(loc=0,scale=noise)\nsim_data = emission + sim_noise\n\ntime = (data.time - data.time[0]).to_value(u.day)\nwl = data.wavelength.to_value(u.um)\n\nim = ax.pcolormesh(time,wl,sim_data,cmap='viridis')\nfig.colorbar(im,ax=ax,label='Emission (ppm)')\n\nax.set_xlabel('Time (days)')\nax.set_ylabel('Wavelength ($\\\\mu m$)')"
      ]
    },
    {
      "cell_type": "markdown",
      "metadata": {},
      "source": [
        "## Plot the integrated spectrum\n\n\n"
      ]
    },
    {
      "cell_type": "code",
      "execution_count": null,
      "metadata": {
        "collapsed": false
      },
      "outputs": [],
      "source": [
        "true = np.mean(emission,axis=1)\nobserved = np.mean(sim_data,axis=1)\nerr = np.sqrt(np.sum(noise**2,axis=1))/noise.shape[1]\n\nfig,ax = plt.subplots(1,1,figsize=(4,3),tight_layout=True)\n\nax.plot(wl,true,c='xkcd:azure',label='True')\nax.errorbar(wl,observed,yerr=err,fmt='o',color='xkcd:rose pink',label='Observed',markersize=2)\nax.set_xlabel('Wavelength ($\\\\mu m$)')\nax.set_ylabel('Planetary Emission (ppm)')\nax.legend()"
      ]
    }
  ],
  "metadata": {
    "kernelspec": {
      "display_name": "Python 3",
      "language": "python",
      "name": "python3"
    },
    "language_info": {
      "codemirror_mode": {
        "name": "ipython",
        "version": 3
      },
      "file_extension": ".py",
      "mimetype": "text/x-python",
      "name": "python",
      "nbconvert_exporter": "python",
      "pygments_lexer": "ipython3",
      "version": "3.11.13"
    }
  },
  "nbformat": 4,
  "nbformat_minor": 0
}