{
  "cells": [
    {
      "cell_type": "markdown",
      "metadata": {},
      "source": [
        "\n# Plot the lightcurve of a flaring star with spots\n\nThis example plots the lightcurve caused by a\nflaring star when it also has spots.\n"
      ]
    },
    {
      "cell_type": "code",
      "execution_count": null,
      "metadata": {
        "collapsed": false
      },
      "outputs": [],
      "source": [
        "from astropy import units as u\nimport matplotlib.pyplot as plt\nfrom pathlib import Path\nimport numpy as np\nimport libpypsg\n\nfrom VSPEC import ObservationModel,PhaseAnalyzer\nfrom VSPEC import params\nfrom VSPEC import config\nfrom VSPEC.params.gcm import vspec_to_pygcm\n\nSEED = 42\nlibpypsg.docker.set_url_and_run()"
      ]
    },
    {
      "cell_type": "markdown",
      "metadata": {},
      "source": [
        "## Initialize the VSPEC run parameters\n\nFor this example, we will create the\nparameter objects explicitly. This can also\nbe done using a YAML file.\n\n"
      ]
    },
    {
      "cell_type": "code",
      "execution_count": null,
      "metadata": {
        "collapsed": false
      },
      "outputs": [],
      "source": [
        "header = params.Header(\n    data_path=Path('.vspec/flare_spot_lightcurve'),\n    seed=SEED,verbose=1,\n    spec_grid = params.VSPECGridParameters(\n        max_teff=3400*u.K,min_teff=2900*u.K,\n        impl_bin='rust',impl_interp='scipy',fail_on_missing=False\n    )\n)\n\nstar = params.StarParameters(\n    psg_star_template='M',\n    teff=3300*u.K,\n    mass = 0.1*u.M_sun,\n    radius=0.15*u.R_sun,\n    period = 6*u.day,\n    misalignment_dir=0*u.deg,\n    misalignment=0*u.deg,\n    ld = params.LimbDarkeningParameters.solar(),\n    faculae=params.FaculaParameters.none(),\n    spots=params.SpotParameters(\n        distribution='iso',\n        initial_coverage=0.1,\n        area_mean=300*config.MSH,\n        area_logsigma=0.2,\n        teff_umbra=2900*u.K,\n        teff_penumbra=3000*u.K,\n        equillibrium_coverage=0.1,\n        burn_in=0*u.day,\n        growth_rate=0/u.day,\n        decay_rate=0*config.MSH/u.day,\n        initial_area=10*config.MSH\n        ),\n    flares=params.FlareParameters(\n        dist_teff_mean=9000*u.K,\n        dist_teff_sigma=500*u.K,\n        dist_fwhm_mean=3*u.hr,\n        dist_fwhm_logsigma=0.4,\n        alpha=-0.829,\n        beta=26.87,\n        min_energy=1e32*u.erg,\n        cluster_size=3\n    ),\n    granulation=params.GranulationParameters.none(),\n    grid_params=(500, 1000),\n)\n\nplanet = params.PlanetParameters.std(init_phase=180*u.deg,init_substellar_lon=0*u.deg)\nsystem = params.SystemParameters(\n    distance=1.3*u.pc,\n    inclination=80*u.deg,\n    phase_of_periastron=0*u.deg\n)\nobservation = params.ObservationParameters(\n    observation_time=10*u.day,\n    integration_time=4*u.hr\n)\npsg_params = params.psgParameters(\n    gcm_binning=200,\n    phase_binning=1,\n    use_molecular_signatures=True,\n    use_continuum_stellar=True,\n    nmax=0,\n    lmax=0,\n    continuum=['Rayleigh', 'Refraction', 'CIA_all'],\n)\ninstrument = params.InstrumentParameters.mirecle()\n\ndef gcm_getter():\n    return vspec_to_pygcm(\n        shape=(30,30,30),\n        epsilon=7,\n        star_teff=3800*u.K,\n        r_star=0.2*u.R_sun,\n        r_orbit=0.05*u.AU,\n        lat_redistribution=0.0,\n        p_surf=1*u.bar,\n        p_stop=1e-5*u.bar,\n        wind_u=0*u.km/u.s,\n        wind_v=0*u.km/u.s,\n        albedo=0.3,\n        emissivity=1.0,\n        gamma=1.4,\n        molecules={'CO2':1e-4}\n    )\ngcm = params.gcmParameters(\n    gcm_getter=gcm_getter,\n    mean_molec_weight=28,\n    is_static=True\n)\nparameters = params.InternalParameters(\n    header = header,\n    star = star,\n    planet = planet,\n    system = system,\n    obs=observation,\n    psg = psg_params,\n    inst=instrument,\n    gcm = gcm\n)"
      ]
    },
    {
      "cell_type": "markdown",
      "metadata": {},
      "source": [
        "## Run the simulation\n\n\n"
      ]
    },
    {
      "cell_type": "code",
      "execution_count": null,
      "metadata": {
        "collapsed": false
      },
      "outputs": [],
      "source": [
        "model = ObservationModel(params=parameters)\nmodel.build_planet()\nmodel.build_spectra()"
      ]
    },
    {
      "cell_type": "markdown",
      "metadata": {},
      "source": [
        "## Load in the data\n\nWe can use VSPEC to read in the synthetic\ndata we just created.\n\n"
      ]
    },
    {
      "cell_type": "code",
      "execution_count": null,
      "metadata": {
        "collapsed": false
      },
      "outputs": [],
      "source": [
        "data = PhaseAnalyzer(model.directories['all_model'])"
      ]
    },
    {
      "cell_type": "markdown",
      "metadata": {},
      "source": [
        "## Make the figure\n\n\n"
      ]
    },
    {
      "cell_type": "code",
      "execution_count": null,
      "metadata": {
        "collapsed": false
      },
      "outputs": [],
      "source": [
        "time = (data.time - data.time[0]).to_value(u.day)\nwl = data.wavelength.to_value(u.um)\n\nemission = (data.thermal/data.total).to_value(u.dimensionless_unscaled)*1e6\n\nvariation = (data.star/data.star[:,0,np.newaxis]-1).to_value(u.dimensionless_unscaled)*100\n\nfig,ax = plt.subplots(1,2,figsize=(8,4))\n\nim=ax[0].pcolormesh(time,wl,emission,cmap='cividis')\nfig.colorbar(im,ax=ax[0],label='Planet Thermal Emission (ppm)',location='top')\n# ax[0].set_title('Planet')\n\nim=ax[1].pcolormesh(time,wl,variation,cmap='cividis')\nfig.colorbar(im,ax=ax[1],label='Stellar Variation (%)',location='top')\n# ax[1].set_title('Star')\n\nax[0].set_ylabel('Wavelength (${\\\\rm \\\\mu m}$)')\nfig.text(0.5,0.02,'Time (days)',ha='center')"
      ]
    }
  ],
  "metadata": {
    "kernelspec": {
      "display_name": "Python 3",
      "language": "python",
      "name": "python3"
    },
    "language_info": {
      "codemirror_mode": {
        "name": "ipython",
        "version": 3
      },
      "file_extension": ".py",
      "mimetype": "text/x-python",
      "name": "python",
      "nbconvert_exporter": "python",
      "pygments_lexer": "ipython3",
      "version": "3.11.13"
    }
  },
  "nbformat": 4,
  "nbformat_minor": 0
}