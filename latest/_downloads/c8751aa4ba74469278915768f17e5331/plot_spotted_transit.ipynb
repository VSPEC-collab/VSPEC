{
  "cells": [
    {
      "cell_type": "markdown",
      "metadata": {},
      "source": [
        "\n# Observe a transit of a spotted star.\n\nThis example demonstrates stellar contamination of a transit spectrum.\n\nA transit can change the spot coverage of a star and produce a signal\nthat is difficult to distinguish from atmospheric absorption. We aim to simulate\ndata from :cite:t:`2023ApJ...948L..11M`.\n"
      ]
    },
    {
      "cell_type": "code",
      "execution_count": null,
      "metadata": {
        "collapsed": false
      },
      "outputs": [],
      "source": [
        "from pathlib import Path\nimport numpy as np\nimport matplotlib.pyplot as plt\nfrom astropy import units as u\nimport libpypsg\n\nfrom VSPEC import ObservationModel,PhaseAnalyzer\nfrom VSPEC import params\nfrom VSPEC.config import MSH\n\nSEED = 10\nPRE_TRANSIT = 8\nIN_TRANSIT = 13\nlibpypsg.docker.set_url_and_run()"
      ]
    },
    {
      "cell_type": "markdown",
      "metadata": {},
      "source": [
        "## Create the needed configurations\n\n:cite:t:`2023ApJ...948L..11M` observed super-Earth GJ 486b with\nJWST NIRSpec/G395H\n\n"
      ]
    },
    {
      "cell_type": "code",
      "execution_count": null,
      "metadata": {
        "collapsed": false
      },
      "outputs": [],
      "source": [
        "# Instrument\n\ninst = params.InstrumentParameters(\n    telescope=params.SingleDishParameters.jwst(),\n    bandpass=params.BandpassParameters(\n        wl_blue=2.87*u.um,\n        wl_red=5.14*u.um,\n        resolving_power=200,\n        wavelength_unit=u.um,\n        flux_unit=u.Unit('W m-2 um-1')\n    ),\n    detector=params.DetectorParameters(\n        beam_width=5*u.arcsec,\n        integration_time=0.5*u.s,\n        ccd=params.ccdParameters(\n            pixel_sampling=8,\n            read_noise=16.8*u.electron,\n            dark_current=0.005*u.electron/u.s,\n            throughput=0.3,\n            emissivity=0.1,\n            temperature=50*u.K\n        )\n    )\n)\n\n# Observation\n\nobservation = params.ObservationParameters(\n    observation_time=3.53*u.hr,\n    integration_time=8*u.min\n)\n\n# PSG\n\npsg_kwargs = dict(\n    gcm_binning=200,\n    phase_binning=1,\n    nmax=0,\n    lmax=0,\n    use_continuum_stellar=True,\n    continuum=['Rayleigh', 'Refraction'],\n)\npsg_params = params.psgParameters(\n    use_molecular_signatures=True,\n    **psg_kwargs\n)\npsg_no_atm = params.psgParameters(\n    use_molecular_signatures=False,\n    **psg_kwargs\n)\n\n# Star and Planet\n\nstar_teff = 3343*u.K\nstar_rad = 0.339*u.R_sun\na_rstar = 11.229 # Moran+23 Table 1\nrp_rstar = 0.03709 # Moran+23 Table 1\nplanet_rad = star_rad * rp_rstar\norbit_rad = star_rad * a_rstar\norbit_period = 1.467119*u.day\nplanet_rot_period = orbit_period\nstar_rot_period = np.inf*u.s # assume the star does not change.\nplanet_mass = 2.82*u.M_earth\nstar_mass = 0.323*u.M_sun\ninclination = 89.06*u.deg\nplanet_norm_factor = {\n    'rock_quiet': 1,\n    'rock_spotted': 0.97,\n    'water_quiet': 0.98,\n} # We will multiply the radius by these scalars rather than fit\n  # later (because I have run this code before and know how much\n  # each model is off by).\n\nprint(f'Planet radius: {planet_rad.to_value(u.R_earth)} R_earth')\nprint(f'Semimajor axis: {orbit_rad.to_value(u.AU)} AU')\n\nobservation_angle = (2*np.pi*u.rad * observation.observation_time/orbit_period).to(u.deg)\ninitial_phase = 180*u.deg - 0.5*observation_angle\n\nplanet_kwargs = dict(\n    name='GJ486b',\n    gravity=params.GravityParameters('kg',planet_mass),\n    semimajor_axis=orbit_rad,\n    orbit_period=orbit_period,\n    rotation_period=planet_rot_period,\n    eccentricity=0,\n    obliquity=0*u.deg,\n    obliquity_direction=0*u.deg,\n    init_phase=initial_phase,\n    init_substellar_lon=0*u.deg\n)\n\nquiet_rock_planet = params.PlanetParameters(\n    radius=planet_rad*planet_norm_factor['rock_quiet'],\n    **planet_kwargs\n)\nquiet_water_planet = params.PlanetParameters(\n    radius=planet_rad*planet_norm_factor['water_quiet'],\n    **planet_kwargs\n)\nspotted_rock_planet = params.PlanetParameters(\n    radius=planet_rad*planet_norm_factor['rock_spotted'],\n    **planet_kwargs\n)\n\n\nsystem_params = params.SystemParameters(\n    distance=8.07*u.pc,\n    inclination=inclination,\n    phase_of_periastron=0*u.deg\n)\n\n\nstar_dict = {\n    'teff': star_teff,\n    'radius': star_rad\n}\nplanet_dict = {'semimajor_axis': orbit_rad}\n\ngcm_dict = {\n    'nlayer': 40,\n    'nlon': 60,\n    'nlat': 30,\n    'epsilon': 100,\n    'albedo': 0.3,\n    'emissivity': 1.0,\n    'lat_redistribution': 0.0,\n    'gamma': 1.0,\n    'psurf': 1*u.bar,\n    'ptop': 1e-10*u.bar,\n    'wind': {'U': '0 m/s','V':'0 m/s'},\n    'molecules':{'H2O':0.99}\n}\n\n# Create two sets of GCM Parameters\n\nh2o_atm = {'molecules':{'H2O':0.99}}\ngcm_h2o = params.gcmParameters.from_dict({\n    'star':star_dict,\n    'planet':planet_dict,\n    'gcm':{'vspec':dict(gcm_dict,**h2o_atm),'mean_molec_weight':18}\n})\nstar_kwargs = dict(\n    psg_star_template='M',\n    teff=star_teff,\n    mass=star_mass,\n    radius=star_rad,\n    period=star_rot_period,\n    misalignment=0*u.deg,\n    misalignment_dir=0*u.deg,\n    ld=params.LimbDarkeningParameters.lambertian(),\n    faculae=params.FaculaParameters.none(),\n    flares=params.FlareParameters.none(),\n    granulation=params.GranulationParameters.none(),\n    grid_params=100000,\n)\nquiet_star = params.StarParameters(\n    spots=params.SpotParameters.none(),\n    **star_kwargs\n)\nspotted_star = params.StarParameters(\n    spots=params.SpotParameters(\n        distribution='iso',\n        initial_coverage=0.11,\n        area_mean=500*MSH,\n        area_logsigma=0.2,\n        teff_umbra=2700*u.K,\n        teff_penumbra=2700*u.K,\n        equillibrium_coverage=0.0,\n        burn_in=0*u.s,\n        growth_rate=0.0/u.day,\n        decay_rate=0*MSH/u.day,\n        initial_area=10*MSH\n    ),\n    **star_kwargs\n)\n\n# Set parameters for simulation\nheader_kwargs = dict(\n    seed = SEED,\n    spec_grid = params.VSPECGridParameters(\n        max_teff=3400*u.K,min_teff=2300*u.K,\n        impl_bin='rust',impl_interp='scipy',fail_on_missing=False\n    )\n)\ninternal_params_kwargs = dict(\n    system=system_params,\n    obs=observation,\n    gcm=gcm_h2o,\n    inst=inst\n)\n\n# Make the three cases\n\nparams_rock_quiet = params.InternalParameters(\n    header=params.Header(data_path=Path('.vspec/rock_quiet'),**header_kwargs),\n    star = quiet_star,\n    psg=psg_no_atm,\n    planet=quiet_rock_planet,\n    **internal_params_kwargs\n)\nparams_h2o_quiet = params.InternalParameters(\n    header=params.Header(data_path=Path('.vspec/h2o_quiet'),**header_kwargs),\n    star = quiet_star,\n    psg=psg_params,\n    planet=quiet_water_planet,\n    **internal_params_kwargs\n)\n\nparams_rock_spotted = params.InternalParameters(\n    header=params.Header(data_path=Path('.vspec/rock_spotted'),**header_kwargs),\n    star = spotted_star,\n    psg=psg_no_atm,\n    planet=spotted_rock_planet,\n    **internal_params_kwargs\n)"
      ]
    },
    {
      "cell_type": "markdown",
      "metadata": {},
      "source": [
        "## Run VSPEC for the simplest case\n\nWe read in the config file and run the model.\n\n"
      ]
    },
    {
      "cell_type": "code",
      "execution_count": null,
      "metadata": {
        "collapsed": false
      },
      "outputs": [],
      "source": [
        "model_rock_quiet = ObservationModel(params_rock_quiet)\nmodel_rock_quiet.build_planet()\nmodel_rock_quiet.build_spectra()"
      ]
    },
    {
      "cell_type": "markdown",
      "metadata": {},
      "source": [
        "## Load in the data\n\nWe can use VSPEC to read in the synthetic\ndata we just created.\n\n"
      ]
    },
    {
      "cell_type": "code",
      "execution_count": null,
      "metadata": {
        "collapsed": false
      },
      "outputs": [],
      "source": [
        "data_rock_quiet = PhaseAnalyzer(model_rock_quiet.directories['all_model'])"
      ]
    },
    {
      "cell_type": "markdown",
      "metadata": {},
      "source": [
        "## Plot the transit\n\nLets plot the lightcurve of each channel.\n\n"
      ]
    },
    {
      "cell_type": "code",
      "execution_count": null,
      "metadata": {
        "collapsed": false
      },
      "outputs": [],
      "source": [
        "def plot_transit(data:PhaseAnalyzer,title:str,color:str):\n    time_from_mid_transit = (data.time-0.5*(data.time[-1]+data.time[0])).to(u.hour)\n\n    fig,axes = plt.subplots(2,1,tight_layout=True)\n    axes[0].scatter(\n        time_from_mid_transit,\n        data.lightcurve('total',(0,-1),normalize=0,noise=False),\n        label = 'white light curve',c=color\n    )\n    axes[0].set_xlabel('Time past mid-transit (hour)')\n    axes[0].set_ylabel('Transit depth (ppm)')\n    axes[0].legend()\n    axes[0].set_title(title)\n\n    # standardize the epochs to use for analysis\n    pre_transit = PRE_TRANSIT\n    in_transit = IN_TRANSIT\n\n    unocculted_spectrum = data.spectrum('total',pre_transit)\n    occulted_spectrum = data.spectrum('total',in_transit)\n    lost_to_transit = unocculted_spectrum-occulted_spectrum\n    transit_depth = (lost_to_transit/unocculted_spectrum).to_value(u.dimensionless_unscaled)\n\n    axes[1].plot(data.wavelength, 1e6*(transit_depth),c=color)\n    axes[1].set_xlabel(f'Wavelength ({data.wavelength.unit})')\n    axes[1].set_ylabel('Transit depth (ppm)')\n    ylo,yhi = axes[1].get_ylim()\n    if yhi-ylo < 0.5:\n        mean = 0.5*(ylo+yhi)\n        axes[1].set_ylim(mean-0.25,mean+0.25)\n\n    return fig\n\nplot_transit(data_rock_quiet,'Spotless Star and Bare Rock','xkcd:lavender').show()"
      ]
    },
    {
      "cell_type": "markdown",
      "metadata": {},
      "source": [
        "## Run the other models\n\nLet's do the same analysis for the other cases.\n\n### Spotless Star, H2O Planet\n\n"
      ]
    },
    {
      "cell_type": "code",
      "execution_count": null,
      "metadata": {
        "collapsed": false
      },
      "outputs": [],
      "source": [
        "model_h2o_quiet = ObservationModel(params_h2o_quiet)\nmodel_h2o_quiet.build_planet()\nmodel_h2o_quiet.build_spectra()\n\ndata_h2o_quiet = PhaseAnalyzer(model_h2o_quiet.directories['all_model'])\n\nplot_transit(data_h2o_quiet,'Spotless Star and 1 bar H2O Atmosphere','xkcd:azure').show()"
      ]
    },
    {
      "cell_type": "markdown",
      "metadata": {},
      "source": [
        "### Spotted Star, CO2 Planet\n\n"
      ]
    },
    {
      "cell_type": "code",
      "execution_count": null,
      "metadata": {
        "collapsed": false
      },
      "outputs": [],
      "source": [
        "model_rock_spotted = ObservationModel(params_rock_spotted)\nmodel_rock_spotted.build_planet()\nmodel_rock_spotted.build_spectra()\n\ndata_rock_spotted = PhaseAnalyzer(model_rock_spotted.directories['all_model'])\n\nplot_transit(data_rock_spotted,'Spotted Star and Bare Rock','xkcd:golden yellow').show()"
      ]
    },
    {
      "cell_type": "markdown",
      "metadata": {},
      "source": [
        "## Plot the observed spectra\n\nLet's compare the transits. We also load in the actual JWST data.\n\n"
      ]
    },
    {
      "cell_type": "markdown",
      "metadata": {},
      "source": [
        "### Get the data\n\nReduced data from :cite:t:`2023ApJ...948L..11M` is publicly available.\nHowever, you must download it from the figure caption of the online version.\n\n"
      ]
    },
    {
      "cell_type": "code",
      "execution_count": null,
      "metadata": {
        "collapsed": false
      },
      "outputs": [],
      "source": [
        "import pandas as pd\n\ntry:\n    filename = Path(__file__).parent / 'moran2023_fig3.txt'\nexcept NameError:\n    filename = 'moran2023_fig3.txt'\n\ndf = pd.read_fwf(filename,colspecs=[(0,8),(9,14),(15,20),(21,25),(26,28)],\n    header=20,names=['Reduction','Wave','Width','Depth','e_Depth'])\nused_eureka = df['Reduction']=='Eureka'\nmoran_x = df.loc[used_eureka,'Wave']\nmoran_y = df.loc[used_eureka,'Depth']\nmoran_yerr = df.loc[used_eureka,'e_Depth']\nmoran_mean = np.mean(moran_y)"
      ]
    },
    {
      "cell_type": "markdown",
      "metadata": {},
      "source": [
        "### Make the figure\n\n\n"
      ]
    },
    {
      "cell_type": "code",
      "execution_count": null,
      "metadata": {
        "collapsed": false
      },
      "outputs": [],
      "source": [
        "fig, ax = plt.subplots(1,1)\n\nfor data,label,color in zip(\n    [data_rock_quiet,data_h2o_quiet,data_rock_spotted],\n    ['Rock', 'H2O', 'Rock+Spots'],\n    ['xkcd:lavender','xkcd:azure','xkcd:golden yellow']\n):\n    pre_transit = PRE_TRANSIT\n    in_transit = IN_TRANSIT\n    unocculted_spectrum = data.spectrum('total',pre_transit)\n    occulted_spectrum = data.spectrum('total',in_transit)\n    lost_to_transit = unocculted_spectrum-occulted_spectrum\n    transit_depth = (lost_to_transit/unocculted_spectrum).to_value(u.dimensionless_unscaled)*1e6\n    depth_mean = np.mean(transit_depth)\n    shift = moran_mean/depth_mean\n    shift = 1\n    ax.plot(data.wavelength,transit_depth*shift,label=label,color=color)\n\nax.errorbar(moran_x,moran_y,yerr=moran_yerr,\n    fmt='o',color='k',label='Moran+23 Eureka!')\n\nax.set_xlabel('Wavelength (um)')\nax.set_ylabel('Transit depth (ppm)')\nax.legend()"
      ]
    },
    {
      "cell_type": "markdown",
      "metadata": {},
      "source": [
        "### Make the figure again\n\nThis time without the bare rock\n\n"
      ]
    },
    {
      "cell_type": "code",
      "execution_count": null,
      "metadata": {
        "collapsed": false
      },
      "outputs": [],
      "source": [
        "fig, ax = plt.subplots(1,1,figsize=(5,3.5),tight_layout=True)\n\nfor data,label,color in zip(\n    [data_h2o_quiet,data_rock_spotted],\n    ['H2O', 'Rock+Spots'],\n    ['xkcd:azure','xkcd:golden yellow']\n):\n    pre_transit = PRE_TRANSIT\n    in_transit = IN_TRANSIT\n    unocculted_spectrum = data.spectrum('total',pre_transit)\n    occulted_spectrum = data.spectrum('total',in_transit)\n    lost_to_transit = unocculted_spectrum-occulted_spectrum\n    transit_depth = (lost_to_transit/unocculted_spectrum).to_value(u.dimensionless_unscaled)\n    ax.plot(data.wavelength,transit_depth*1e6,label=label,color=color)\n\nax.errorbar(moran_x,moran_y,yerr=moran_yerr,\n    fmt='o',color='k',label='Moran+23 Eureka!')\n\nax.set_xlabel('Wavelength (um)')\nax.set_ylabel('Transit depth (ppm)')\nax.legend()"
      ]
    }
  ],
  "metadata": {
    "kernelspec": {
      "display_name": "Python 3",
      "language": "python",
      "name": "python3"
    },
    "language_info": {
      "codemirror_mode": {
        "name": "ipython",
        "version": 3
      },
      "file_extension": ".py",
      "mimetype": "text/x-python",
      "name": "python",
      "nbconvert_exporter": "python",
      "pygments_lexer": "ipython3",
      "version": "3.11.10"
    }
  },
  "nbformat": 4,
  "nbformat_minor": 0
}