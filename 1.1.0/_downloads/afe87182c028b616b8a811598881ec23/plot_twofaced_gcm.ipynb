{
  "cells": [
    {
      "cell_type": "markdown",
      "metadata": {},
      "source": [
        "\n# Day-night mix model\n\nThis example shows how to use the build-in 'two-face' planetary model.\n"
      ]
    },
    {
      "cell_type": "code",
      "execution_count": null,
      "metadata": {
        "collapsed": false
      },
      "outputs": [],
      "source": [
        "from pathlib import Path\nimport matplotlib.pyplot as plt\nimport numpy as np\nimport yaml\nimport cartopy.crs as ccrs\nfrom astropy import units as u\nfrom VSPEC import ObservationModel,PhaseAnalyzer\nimport libpypsg as psg\n\ntry:\n    YAML_PATH = Path(__file__).parent / 'twoface.yaml'\nexcept NameError:\n    YAML_PATH = Path('twoface.yaml')"
      ]
    },
    {
      "cell_type": "markdown",
      "metadata": {},
      "source": [
        "Let's look at the GCM portion of the input file:\n\n"
      ]
    },
    {
      "cell_type": "code",
      "execution_count": null,
      "metadata": {
        "collapsed": false
      },
      "outputs": [],
      "source": [
        "with open(YAML_PATH) as f:\n    d = yaml.safe_load(f)['gcm']\n\nprint(yaml.dump(d))"
      ]
    },
    {
      "cell_type": "markdown",
      "metadata": {},
      "source": [
        "Initialize the VSPEC run\n\nWe read in the config file.\n\n"
      ]
    },
    {
      "cell_type": "code",
      "execution_count": null,
      "metadata": {
        "collapsed": false
      },
      "outputs": [],
      "source": [
        "model = ObservationModel.from_yaml(YAML_PATH)"
      ]
    },
    {
      "cell_type": "markdown",
      "metadata": {},
      "source": [
        "First, let's look at the planetary structure.\n\n"
      ]
    },
    {
      "cell_type": "code",
      "execution_count": null,
      "metadata": {
        "collapsed": false
      },
      "outputs": [],
      "source": [
        "gcm = model.params.gcm.get_gcm()"
      ]
    },
    {
      "cell_type": "markdown",
      "metadata": {},
      "source": [
        "## Map the planetary surface\n\n"
      ]
    },
    {
      "cell_type": "code",
      "execution_count": null,
      "metadata": {
        "collapsed": false
      },
      "outputs": [],
      "source": [
        "tsurf = gcm.tsurf.dat.to_value(u.K)\n\nfig = plt.figure()\nproj = ccrs.Mollweide(central_longitude=0)\nax = fig.add_subplot(projection=proj)\n\nlats = gcm.lat_start + np.arange(gcm.shape[2]) * gcm.dlat.to_value(u.deg)\nlons = gcm.lon_start + np.arange(gcm.shape[1]) * gcm.dlon.to_value(u.deg)\n\nim=ax.pcolormesh(lons,lats,tsurf.T,cmap='inferno',transform=ccrs.PlateCarree())\nax.coastlines()\n_=fig.colorbar(im,ax=ax,label='Surface Temperature (K)')"
      ]
    },
    {
      "cell_type": "markdown",
      "metadata": {},
      "source": [
        "Look at the profiles\n\n"
      ]
    },
    {
      "cell_type": "code",
      "execution_count": null,
      "metadata": {
        "collapsed": false
      },
      "outputs": [],
      "source": [
        "ilon_substellar = gcm.shape[1] // 2\nilon_antistellar = 0\nilon_terminator = gcm.shape[1] // 4\n\nilat_equator = gcm.shape[2] // 2\n\nplt.close('all')\nfig = plt.figure()\nax1 = fig.add_subplot(1, 2, 1)\nax2 = fig.add_subplot(1, 2, 2)\nfig.subplots_adjust(wspace=0.4)\n\nfor ilon, label,c in zip([ilon_substellar, ilon_antistellar, ilon_terminator], ['Substellar', 'Antistellar', 'Terminator'], ['b', 'k', 'r']):\n    pressure = gcm.pressure.dat[:, ilon, ilat_equator]\n    temperature = gcm.temperature.dat[:, ilon, ilat_equator]\n    h2o = gcm.molecules[0].dat[:, ilon, ilat_equator]\n    ax1.plot(temperature, pressure, label=label, color=c)\n    ax2.plot(h2o*100, pressure, color=c)\n\nax1.set_yscale('log')\nax1.set_xlabel('Temperature (K)')\nax1.set_ylabel('Pressure (bar)')\nax1.set_ylim(np.flip(ax1.get_ylim()))\nax1.legend(loc='upper left')\n\nax2.set_xlabel('H2O (%)')\nax2.set_ylabel('Pressure (bar)')\nax2.set_yscale('log')\n_=ax2.set_ylim(np.flip(ax2.get_ylim()))"
      ]
    },
    {
      "cell_type": "markdown",
      "metadata": {},
      "source": [
        "Make the phase curve\n\n"
      ]
    },
    {
      "cell_type": "code",
      "execution_count": null,
      "metadata": {
        "collapsed": false
      },
      "outputs": [],
      "source": [
        "psg.docker.set_url_and_run()\n\nmodel.build_planet()\nmodel.build_spectra()\n\ndata = PhaseAnalyzer.from_model(model)\n\nfig = plt.figure()\nax = fig.add_subplot(1, 1, 1)\n\nim = ax.pcolormesh(\n    data.wavelength.to_value(u.um),\n    data.time.to_value(u.hour),\n    (data.thermal/data.total*1e6).T,\n    cmap='viridis'\n)\nax.set_xlabel('Wavelength ($\\\\mu m$)')\nax.set_ylabel('Time (hours)')\n\n_=fig.colorbar(im, ax=ax, label='Thermal Emission (ppm)')"
      ]
    },
    {
      "cell_type": "markdown",
      "metadata": {},
      "source": [
        "Look at spectra\n\n"
      ]
    },
    {
      "cell_type": "code",
      "execution_count": null,
      "metadata": {
        "collapsed": false
      },
      "outputs": [],
      "source": [
        "i_day = 0\ni_night = data.time.shape[0] // 2\ni_quad = data.time.shape[0] // 4\n\nfig,ax = plt.subplots(1,1,figsize=(4,3))\n\nax.plot(data.wavelength.to_value(u.um),data.spectrum('thermal',i_day),label='Day')\nax.plot(data.wavelength.to_value(u.um),data.spectrum('thermal',i_night),label='Night')\nax.plot(data.wavelength.to_value(u.um),data.spectrum('thermal',i_quad),label='Quadrature')\nax.set_xlabel('Wavelength ($\\\\mu m$)')\nax.set_ylabel('Thermal Emission (W/m$^2$/$\\\\mu m$)')\n_=ax.legend()"
      ]
    }
  ],
  "metadata": {
    "kernelspec": {
      "display_name": "Python 3",
      "language": "python",
      "name": "python3"
    },
    "language_info": {
      "codemirror_mode": {
        "name": "ipython",
        "version": 3
      },
      "file_extension": ".py",
      "mimetype": "text/x-python",
      "name": "python",
      "nbconvert_exporter": "python",
      "pygments_lexer": "ipython3",
      "version": "3.11.12"
    }
  },
  "nbformat": 4,
  "nbformat_minor": 0
}