{
  "cells": [
    {
      "cell_type": "markdown",
      "metadata": {},
      "source": [
        "\n# Make a phase curve GIF\n\nThis example turns a phase curve into a gif.\n"
      ]
    },
    {
      "cell_type": "code",
      "execution_count": null,
      "metadata": {
        "collapsed": false
      },
      "outputs": [],
      "source": [
        "from pathlib import Path\nimport os\nimport numpy as np\nimport matplotlib.pyplot as plt\nfrom astropy import units as u\nfrom imageio.v2 import imread, mimsave\nfrom cartopy import crs as ccrs\nimport libpypsg\nfrom libpypsg.globes import PyGCM\n\nfrom VSPEC import ObservationModel,PhaseAnalyzer\nfrom VSPEC.geometry import SystemGeometry\n\ntry:\n    CONFIG_PATH = Path(__file__).parent / 'phase_gif.yaml'\nexcept NameError:\n    CONFIG_PATH = Path('phase_gif.yaml')\n\nlibpypsg.docker.set_url_and_run()"
      ]
    },
    {
      "cell_type": "markdown",
      "metadata": {},
      "source": [
        "## Load in the configuration\n\nIt is stored in a YAML file.\n\n"
      ]
    },
    {
      "cell_type": "code",
      "execution_count": null,
      "metadata": {
        "collapsed": false
      },
      "outputs": [],
      "source": [
        "model = ObservationModel.from_yaml(CONFIG_PATH)\nmodel.build_planet()\nmodel.build_spectra()"
      ]
    },
    {
      "cell_type": "markdown",
      "metadata": {},
      "source": [
        "## Write a figure making function\n\nSo we can make a GIF later.\n\n"
      ]
    },
    {
      "cell_type": "code",
      "execution_count": null,
      "metadata": {
        "collapsed": false
      },
      "outputs": [],
      "source": [
        "def make_fig(data:PhaseAnalyzer,geo:SystemGeometry,gcm:PyGCM,s:tuple):\n    \"\"\"\n    data is the simulation data\n    s is the phase index (start, stop)\n    \"\"\"\n    i = int(np.mean(s)) # int representation of s\n    p,q = s\n    \n    fig = plt.figure(figsize=(10,5))\n    gs = fig.add_gridspec(1,2)\n    prof_ax = fig.add_subplot(gs[0,0])\n\n    pressure = np.mean(data.get_layer('Pressure')[p:q,:],axis=0)\n    temp = np.mean(data.get_layer('Temp')[p:q,:],axis=0)\n\n    prof_ax.plot(temp,pressure)\n    prof_ax.set_yscale('log')\n    prof_ax.set_xlabel('Temperature (K)')\n    prof_ax.set_ylabel('Pressure (bar)')\n    prof_ax.set_ylim(np.flip(prof_ax.get_ylim()))\n    prof_ax.set_xlim(-5,290)\n\n    phase = data.phase[i]\n    inax = prof_ax.inset_axes([0.5,0.5,0.4,0.4])\n    inax.set_aspect(1)\n    geo.get_system_visual(phase,ax=inax)\n\n    pl_spec = data.spectrum('thermal',s,noise=False)\n    star_spec = data.spectrum('star',s,noise=False)\n    noi_spec = data.spectrum('noise',s,noise=False)\n    wl = data.wavelength.to_value(u.um)\n\n    cont = ((pl_spec)/star_spec).to_value(u.dimensionless_unscaled)\n    contp = ((pl_spec+noi_spec)/star_spec).to_value(u.dimensionless_unscaled)\n    contm = ((pl_spec-noi_spec)/star_spec).to_value(u.dimensionless_unscaled)\n\n    spec_ax = fig.add_subplot(gs[0,1],projection=ccrs.PlateCarree())\n\n    spec_ax.plot(wl,cont*1e6,c='k')\n    spec_ax.fill_between(wl,contp*1e6,contm*1e6,color='k',alpha=0.2)\n\n    spec_ax.set_xlabel('Wavelength (um)')\n    spec_ax.set_ylabel('Thermal emission (ppm)')\n    spec_ax.set_aspect('auto')\n    spec_ax.tick_params(axis='both',which='major',direction='out')\n    spec_ax.set_xticks(np.arange(1,19,2))\n    spec_ax.set_yticks(np.arange(-1,10,2)*10)\n\n    lat = geo.get_pl_sub_obs_lat(phase)\n    time = data.time[i]\n    lon = geo.get_pl_sub_obs_lon(time,phase)\n    proj = ccrs.Orthographic(\n        central_latitude=lat.to_value(u.deg),\n        central_longitude=lon.to_value(u.deg)\n    )\n    mapax = spec_ax.inset_axes([0.05,0.5,0.4,0.4],projection=proj)\n    cbarax = spec_ax.inset_axes([0.5,0.5,0.1,0.4],projection=ccrs.PlateCarree())\n    cbarax.set_axis_off()\n\n    tsurf = gcm.tsurf.dat.to_value(u.K)\n    lats = gcm.lats\n    lons = gcm.lons\n    im = mapax.pcolormesh(lons,lats,tsurf.T,cmap='gist_heat',transform=ccrs.PlateCarree())\n    fig.colorbar(im,ax=cbarax,label='$T_{\\\\rm surf}$ (K)')\n    return fig"
      ]
    },
    {
      "cell_type": "markdown",
      "metadata": {},
      "source": [
        "## Get the data\n\n"
      ]
    },
    {
      "cell_type": "code",
      "execution_count": null,
      "metadata": {
        "collapsed": false
      },
      "outputs": [],
      "source": [
        "data = PhaseAnalyzer(model.directories['all_model'])\ngeometry = model.get_observation_parameters()\ngcm = model.params.gcm.get_gcm()\n# gcm = GCMdecoder.from_psg(model.params.gcm.content())"
      ]
    },
    {
      "cell_type": "markdown",
      "metadata": {},
      "source": [
        "## Display one frame\n\n"
      ]
    },
    {
      "cell_type": "code",
      "execution_count": null,
      "metadata": {
        "collapsed": false
      },
      "outputs": [],
      "source": [
        "fig = make_fig(data,geometry,gcm,(0,20))\nfig.show()"
      ]
    },
    {
      "cell_type": "markdown",
      "metadata": {},
      "source": [
        "## Make a GIF\n\n"
      ]
    },
    {
      "cell_type": "code",
      "execution_count": null,
      "metadata": {
        "collapsed": false
      },
      "outputs": [],
      "source": [
        "def gif_image(i):\n    s = (max(0,i-10),min(data.n_images-1,i+10))\n    return make_fig(data,geometry,gcm,s)\n\nimages = []\nfname='temp.png'\nfor i in range(data.n_images):\n    fig = gif_image(i)\n    fig.savefig(fname)\n    plt.close(fig)\n    images.append(imread(fname))\n    os.remove(fname)\n\nfilename = 'phase_curve.gif'\n_=mimsave(filename, images,fps=20)"
      ]
    }
  ],
  "metadata": {
    "kernelspec": {
      "display_name": "Python 3",
      "language": "python",
      "name": "python3"
    },
    "language_info": {
      "codemirror_mode": {
        "name": "ipython",
        "version": 3
      },
      "file_extension": ".py",
      "mimetype": "text/x-python",
      "name": "python",
      "nbconvert_exporter": "python",
      "pygments_lexer": "ipython3",
      "version": "3.11.10"
    }
  },
  "nbformat": 4,
  "nbformat_minor": 0
}