{
  "cells": [
    {
      "cell_type": "code",
      "execution_count": null,
      "metadata": {
        "collapsed": false
      },
      "outputs": [],
      "source": [
        "%matplotlib inline"
      ]
    },
    {
      "cell_type": "markdown",
      "metadata": {},
      "source": [
        "\n# Plot the effect of facula depth on it's lightcurve\n\nThis example creates toy lightcurves for a set of faculae.\n"
      ]
    },
    {
      "cell_type": "code",
      "execution_count": null,
      "metadata": {
        "collapsed": false
      },
      "outputs": [],
      "source": [
        "from astropy import units as u\nimport matplotlib.pyplot as plt\nimport matplotlib.cm as cm\nimport numpy as np\n\nfrom VSPEC.variable_star_model import Facula\nfrom VSPEC.helpers import round_teff"
      ]
    },
    {
      "cell_type": "markdown",
      "metadata": {},
      "source": [
        "## Create a default facula\n\nLet's make it so that our facula model only has a single free\nparameter: the depth-to-radius ratio.\n\n"
      ]
    },
    {
      "cell_type": "code",
      "execution_count": null,
      "metadata": {
        "collapsed": false
      },
      "outputs": [],
      "source": [
        "def make_fac(depth_over_rad: float) -> Facula:\n    \"\"\"Return a default facula\"\"\"\n    radius = 0.005*u.R_sun\n    return Facula(\n        lat=0*u.deg,\n        lon=0*u.deg,\n        r_max=radius,\n        r_init=radius,\n        depth=radius*depth_over_rad,\n        # None of the below parameters will affect this\n        # example, but we must set them to something\n        lifetime=1*u.day,\n        floor_teff_slope=0*u.K/u.km,\n        floor_teff_min_rad=1*u.km,\n        floor_teff_base_dteff=-100*u.K,\n        wall_teff_intercept=100*u.K,\n        wall_teff_slope=0*u.K/u.km\n    )"
      ]
    },
    {
      "cell_type": "markdown",
      "metadata": {},
      "source": [
        "## Make a toy flux model\n\nWe can avoid using an actual stellar spectrum and\nrunning the ``VSPEC.main`` module if we assume a few things.\n\nSuppose the wall is 10% brigher than the photosphere and the floor\nis 10% dimmer. Also suppose that the star has a radius of 0.15 solar radii\n\n"
      ]
    },
    {
      "cell_type": "code",
      "execution_count": null,
      "metadata": {
        "collapsed": false
      },
      "outputs": [],
      "source": [
        "rad_star = 0.15*u.R_sun\nwall_brightness = 1.1\nfloor_brightness = 0.9\n\n\ndef relative_flux(facula: Facula, angle: u.Quantity) -> float:\n    \"\"\"Get the contrast from a toy flux model\"\"\"\n    effective_area = facula.effective_area(angle)\n    area_floor = effective_area[round_teff(facula.floor_dteff)]\n    area_wall = effective_area[round_teff(facula.wall_dteff)]\n    area_of_disk = np.pi*rad_star**2\n    floor_fraction = (\n        area_floor/area_of_disk).to_value(u.dimensionless_unscaled)\n    wall_fraction = (area_wall/area_of_disk).to_value(u.dimensionless_unscaled)\n    return 1 + floor_fraction*(floor_brightness - 1) + wall_fraction*(wall_brightness-1)"
      ]
    },
    {
      "cell_type": "markdown",
      "metadata": {},
      "source": [
        "## Plot the brightness as a function of angle\n\nLet's choose a parameter space.\n\n"
      ]
    },
    {
      "cell_type": "code",
      "execution_count": null,
      "metadata": {
        "collapsed": false
      },
      "outputs": [],
      "source": [
        "angles = np.linspace(0, 90, 50)*u.deg\ndepth_over_rad = np.logspace(-1, 1, 5)\n\nfor dor in depth_over_rad:\n    facula = make_fac(dor)\n    flux = np.array([\n        relative_flux(facula, angle) for angle in angles\n    ])\n    x = np.concatenate([np.flip(-angles), angles])\n    y = (np.concatenate([np.flip(flux), flux]) - 1)*1e6\n    log_dor = np.log10(dor)\n    color = cm.get_cmap('viridis')(0.5*(log_dor+1))\n    plt.plot(x, y, label=f'log(D/R) = {log_dor:.1f}', c=color)\nplt.xlabel('angle from disk center (deg)')\nplt.ylabel('Relative flux (ppm)')\n_ = plt.legend()"
      ]
    }
  ],
  "metadata": {
    "kernelspec": {
      "display_name": "Python 3",
      "language": "python",
      "name": "python3"
    },
    "language_info": {
      "codemirror_mode": {
        "name": "ipython",
        "version": 3
      },
      "file_extension": ".py",
      "mimetype": "text/x-python",
      "name": "python",
      "nbconvert_exporter": "python",
      "pygments_lexer": "ipython3",
      "version": "3.9.12"
    }
  },
  "nbformat": 4,
  "nbformat_minor": 0
}