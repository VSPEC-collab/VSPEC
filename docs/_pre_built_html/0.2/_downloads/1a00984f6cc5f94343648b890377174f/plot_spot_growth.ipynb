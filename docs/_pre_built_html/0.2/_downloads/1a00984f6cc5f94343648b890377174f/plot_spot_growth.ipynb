{
  "cells": [
    {
      "cell_type": "code",
      "execution_count": null,
      "metadata": {
        "collapsed": false
      },
      "outputs": [],
      "source": [
        "%matplotlib inline"
      ]
    },
    {
      "cell_type": "markdown",
      "metadata": {},
      "source": [
        "\n# Plot the growth and decay of a spot\n\nThis example initializes a ``StarSpot`` object and plots it's\narea as a function of time.\n"
      ]
    },
    {
      "cell_type": "code",
      "execution_count": null,
      "metadata": {
        "collapsed": false
      },
      "outputs": [],
      "source": [
        "from astropy import units as u\nimport numpy as np\nimport matplotlib.pyplot as plt\n\nfrom VSPEC import variable_star_model as vsm\nfrom VSPEC.config import MSH\n\nSEED = 10\nrng = np.random.default_rng(SEED)"
      ]
    },
    {
      "cell_type": "markdown",
      "metadata": {},
      "source": [
        "## Initialize the spot\n\nFirst, let's initialize a ``StarSpot`` object.\n\nWe then add it to a ``SpotCollection`` object\nbecause it will automatically delete the spot\nwhen it decays.\n\nNote: The most common unit of spot area is the\nmicro solar hemisphere (MSH).\n\n"
      ]
    },
    {
      "cell_type": "code",
      "execution_count": null,
      "metadata": {
        "collapsed": false
      },
      "outputs": [],
      "source": [
        "spot = vsm.StarSpot(\n    lat=0*u.deg,\n    lon=0*u.deg,\n    Amax=200*MSH,\n    A0=10*MSH,\n    Teff_umbra=2700*u.K,\n    Teff_penumbra=2900*u.K,\n    r_A=5.,\n    growing=True,\n    growth_rate=0.5/u.day,\n    decay_rate=20*MSH/u.day,\n    Nlat=500,\n    Nlon=100\n)\nspotlist = vsm.SpotCollection(spot)\n\nprint(\n    f'The spot starts with an area of {spot.area_current}, and will grow to {spot.area_max}.')"
      ]
    },
    {
      "cell_type": "markdown",
      "metadata": {},
      "source": [
        "## Step through time\n\nWe now will plot the area of the spot as a function of time\n\n"
      ]
    },
    {
      "cell_type": "code",
      "execution_count": null,
      "metadata": {
        "collapsed": false
      },
      "outputs": [],
      "source": [
        "dt = 8*u.hr\ntotal_time = 20*u.day\nn_steps = int(total_time/dt)\ntime = np.arange(n_steps)*dt\narea = []\narea_unit = MSH\nfor _ in range(n_steps):\n    try:\n        current_area = spotlist.spots[0].area_current.to_value(area_unit)\n    except IndexError:  # the spot has decayed, so `spotlist.spots` is empty\n        current_area = 0\n    area.append(current_area)\n    spotlist.age(dt)\nplt.plot(time, area)\nplt.xlabel(f'time ({time.unit})')\nplt.ylabel(f'Spot area {area_unit}')"
      ]
    }
  ],
  "metadata": {
    "kernelspec": {
      "display_name": "Python 3",
      "language": "python",
      "name": "python3"
    },
    "language_info": {
      "codemirror_mode": {
        "name": "ipython",
        "version": 3
      },
      "file_extension": ".py",
      "mimetype": "text/x-python",
      "name": "python",
      "nbconvert_exporter": "python",
      "pygments_lexer": "ipython3",
      "version": "3.9.12"
    }
  },
  "nbformat": 4,
  "nbformat_minor": 0
}