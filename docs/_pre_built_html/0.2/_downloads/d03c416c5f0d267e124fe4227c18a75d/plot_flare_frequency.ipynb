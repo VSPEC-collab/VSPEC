{
  "cells": [
    {
      "cell_type": "code",
      "execution_count": null,
      "metadata": {
        "collapsed": false
      },
      "outputs": [],
      "source": [
        "%matplotlib inline"
      ]
    },
    {
      "cell_type": "markdown",
      "metadata": {},
      "source": [
        "\n# Plot flare frequency function\n\nThis example generates flares and compares them to the expected distribution.\n"
      ]
    },
    {
      "cell_type": "code",
      "execution_count": null,
      "metadata": {
        "collapsed": false
      },
      "outputs": [],
      "source": [
        "from astropy import units as u\nimport numpy as np\nimport matplotlib.pyplot as plt\n\nfrom VSPEC.variable_star_model import FlareGenerator\n\nSEED = 10"
      ]
    },
    {
      "cell_type": "markdown",
      "metadata": {},
      "source": [
        "## Generate the flares\n\n"
      ]
    },
    {
      "cell_type": "code",
      "execution_count": null,
      "metadata": {
        "collapsed": false
      },
      "outputs": [],
      "source": [
        "dt = 10000*u.day  # a long time.\ngen = FlareGenerator(\n    dist_teff_mean=9000*u.K,\n    dist_teff_sigma=1000*u.K,\n    dist_fwhm_mean=3*u.hr,\n    dist_fwhm_logsigma=0.3,\n    min_energy=1e33*u.erg,\n    cluster_size=4,\n    rng=np.random.default_rng(seed=SEED)\n)\nEs = np.logspace(np.log10(gen.min_energy.to_value(u.erg)),\n                 np.log10(gen.min_energy.to_value(u.erg))+4)*u.erg\n\nflares = gen.generate_flare_series(dt)"
      ]
    },
    {
      "cell_type": "markdown",
      "metadata": {},
      "source": [
        "## Get the energies\n\n"
      ]
    },
    {
      "cell_type": "code",
      "execution_count": null,
      "metadata": {
        "collapsed": false
      },
      "outputs": [],
      "source": [
        "energies = np.array([flare.energy.to_value(u.erg) for flare in flares])\n\nenergies_ge_E = np.array([np.sum(energies >= E) for E in Es.to_value(u.erg)])\n\nmeasured_freq = energies_ge_E/dt\nmeasured_freq_err = np.sqrt(energies_ge_E)/dt"
      ]
    },
    {
      "cell_type": "markdown",
      "metadata": {},
      "source": [
        "## Plot the results\n\n"
      ]
    },
    {
      "cell_type": "code",
      "execution_count": null,
      "metadata": {
        "collapsed": false
      },
      "outputs": [],
      "source": [
        "beta = gen.beta\nalpha = gen.alpha\n\nexpected_log_freq = beta + alpha*np.log10(Es/u.erg)\nexpected_freq = 10**expected_log_freq / u.day\n\nratio = np.where(energies_ge_E > 0, measured_freq/expected_freq, np.nan)\nratio_err = np.where(\n    energies_ge_E > 0, measured_freq_err/expected_freq, np.nan)\n\nfig, axes = plt.subplots(2, 1)\n\naxes[0].plot(Es, expected_freq, c='xkcd:azure', label='Expected')\naxes[0].errorbar(Es, measured_freq, yerr=measured_freq_err, fmt='o',\n                 color='xkcd:rose pink', label='Observed', markersize=5)\naxes[0].set_xlabel('Energy (erg)')\naxes[0].set_ylabel('Frequency (1/day)')\naxes[0].set_xscale('log')\naxes[0].set_yscale('log')\naxes[0].legend()\n\naxes[1].errorbar(Es, ratio, yerr=ratio_err, c='k', fmt='o', markersize=5)\naxes[1].set_xlabel('Energy (erg)')\naxes[1].set_ylabel('Observed/Expected')\naxes[1].set_xscale('log')\naxes[1].axhline(1, c='k', ls='--')\n_=axes[1].set_xlim(axes[0].get_xlim())"
      ]
    },
    {
      "cell_type": "markdown",
      "metadata": {},
      "source": [
        "## Look for clustering\n\n"
      ]
    },
    {
      "cell_type": "code",
      "execution_count": null,
      "metadata": {
        "collapsed": false
      },
      "outputs": [],
      "source": [
        "tpeaks = np.array(\n    [\n        flare.tpeak.to_value(u.day) for flare in flares\n    ]\n)\ntpeaks = np.sort(tpeaks)\ntdiffs = np.diff(tpeaks)\nplt.hist(tdiffs, bins=np.logspace(-3, 3, 30))\n_=plt.xscale('log')"
      ]
    }
  ],
  "metadata": {
    "kernelspec": {
      "display_name": "Python 3",
      "language": "python",
      "name": "python3"
    },
    "language_info": {
      "codemirror_mode": {
        "name": "ipython",
        "version": 3
      },
      "file_extension": ".py",
      "mimetype": "text/x-python",
      "name": "python",
      "nbconvert_exporter": "python",
      "pygments_lexer": "ipython3",
      "version": "3.9.12"
    }
  },
  "nbformat": 4,
  "nbformat_minor": 0
}