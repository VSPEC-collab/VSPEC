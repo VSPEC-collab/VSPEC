{
  "cells": [
    {
      "cell_type": "code",
      "execution_count": null,
      "metadata": {
        "collapsed": false
      },
      "outputs": [],
      "source": [
        "%matplotlib inline"
      ]
    },
    {
      "cell_type": "markdown",
      "metadata": {},
      "source": [
        "\n# Visualize the Spot Generator\n\nThis example walks through the `SpotGenerator` class.\n"
      ]
    },
    {
      "cell_type": "code",
      "execution_count": null,
      "metadata": {
        "collapsed": false
      },
      "outputs": [],
      "source": [
        "from astropy import units as u\nimport numpy as np\nfrom cartopy import crs as ccrs\nimport matplotlib.pyplot as plt\n\nfrom VSPEC import variable_star_model as vsm\nfrom VSPEC.config import MSH\n\nSEED = 10\nrng = np.random.default_rng(SEED)"
      ]
    },
    {
      "cell_type": "markdown",
      "metadata": {},
      "source": [
        "## Initialize the Generator\n\nWe will use the `SpotGenerator` class\n\n"
      ]
    },
    {
      "cell_type": "code",
      "execution_count": null,
      "metadata": {
        "collapsed": false
      },
      "outputs": [],
      "source": [
        "mean_spot_area = 500*MSH\nmstar_gen = vsm.SpotGenerator(\n    dist_area_mean=mean_spot_area,\n    dist_area_logsigma=0.2,\n    umbra_teff=2600*u.K,\n    penumbra_teff=2900*u.K,\n    growth_rate=0/u.day,\n    decay_rate=0*MSH/u.day,\n    init_area=10*MSH,\n    distribution='iso',\n    coverage=0.2,\n    Nlat=500, Nlon=1000, rng=rng\n)"
      ]
    },
    {
      "cell_type": "markdown",
      "metadata": {},
      "source": [
        "## Generate some spots\n\nThe above generator creates spots that do not grow or decay and are\nspread evenly across the surface.\n\n"
      ]
    },
    {
      "cell_type": "code",
      "execution_count": null,
      "metadata": {
        "collapsed": false
      },
      "outputs": [],
      "source": [
        "r_star = 0.15*u.R_sun\nteff_star = 3000*u.K\ntarget_coverage = 0.2\nspots = mstar_gen.generate_mature_spots(\n    coverage=target_coverage,\n    R_star=r_star\n)\nspots = vsm.SpotCollection(*spots, gridmaker=mstar_gen.gridmaker)\nstar_surface_area = 4*np.pi*r_star**2\nexpected_n_spots = 2*(star_surface_area * target_coverage /\n                      mean_spot_area).to_value(u.dimensionless_unscaled)\nprint(\n    f'We have generated {len(spots.spots)} mature spots on the stellar surface. We expected {expected_n_spots:.1f}')\nfig, ax = plt.subplots(1, 1)\nspot_areas = [spot.area_current.to_value(MSH) for spot in spots.spots]\nax.hist(spot_areas)\nax.set_xlabel('Area (msh)')\nax.set_ylabel('count')"
      ]
    },
    {
      "cell_type": "markdown",
      "metadata": {},
      "source": [
        "## Map the surface\n\nWe can create a map of the stellar surface based on the effective temperature.\n\nWe can also ask: did we hit our target spot coverage?\n\n"
      ]
    },
    {
      "cell_type": "code",
      "execution_count": null,
      "metadata": {
        "collapsed": false
      },
      "outputs": [],
      "source": [
        "fig = plt.figure()\nproj = ccrs.Mollweide(central_longitude=0)\nax = fig.add_subplot(projection=proj)\n\ntmap = spots.map_pixels(star_rad=r_star, star_teff=teff_star)\nlats, lons = spots.gridmaker.oned()\n\nspotted_fraction = spots.get_coverage(r_star)\n\nim = ax.pcolormesh(\n    lons.to_value(u.deg),\n    lats.to_value(u.deg),\n    tmap.to_value(u.K).T,\n    cmap='viridis',\n    transform=ccrs.PlateCarree()\n)\nfig.colorbar(im, ax=ax, label='$T_{eff}$ (K)')\ns = f'{spotted_fraction*100:.0f}% of surface covered by spots. Target was {target_coverage*100:.0f}%'\nfig.text(0.1, 0.2, s)"
      ]
    },
    {
      "cell_type": "markdown",
      "metadata": {},
      "source": [
        "## The solar case\n\nWe can also produce spots with properties much more like those we see on the Sun.\n\nBelow we initialize a generator along with a `SpotCollection` object to hold the generated spots.\n\n"
      ]
    },
    {
      "cell_type": "code",
      "execution_count": null,
      "metadata": {
        "collapsed": false
      },
      "outputs": [],
      "source": [
        "mean_spot_area = 100*MSH\ntarget_coverage = 0.1\nsolar_gen = vsm.SpotGenerator(\n    dist_area_mean=mean_spot_area,\n    dist_area_logsigma=0.2,\n    umbra_teff=2600*u.K,\n    penumbra_teff=2900*u.K,\n    growth_rate=0.5/u.day,\n    decay_rate=10*MSH/u.day,\n    init_area=10*MSH,\n    distribution='solar',\n    coverage=target_coverage,\n    Nlat=500, Nlon=1000, rng=rng\n)\nr_star = 0.15*u.R_sun\nteff_star = 3000*u.K\nspots = vsm.SpotCollection(gridmaker=solar_gen.gridmaker)"
      ]
    },
    {
      "cell_type": "markdown",
      "metadata": {},
      "source": [
        "## Spot creation rate\n\nWe can specify a time period over which the generator will create new spots.\nIt uses the average spot lifetime to calculate the number of new spots that\nshould be created in a given time.\n\nA Poisson draw is then used to pick a number based on the expectation value.\n\n"
      ]
    },
    {
      "cell_type": "code",
      "execution_count": null,
      "metadata": {
        "collapsed": false
      },
      "outputs": [],
      "source": [
        "dtime = 1*u.day\nprint(f'In {dtime:.1f} we expect {solar_gen.get_N_spots_to_birth(dtime,r_star):.1f} new spots.')\nnew_spots = solar_gen.birth_spots(dtime, r_star)\nspots.add_spot(new_spots)"
      ]
    },
    {
      "cell_type": "markdown",
      "metadata": {},
      "source": [
        "## Growth-decay equillibrium\n\nIterating through time allows us to aproach equillibrium.\n\n"
      ]
    },
    {
      "cell_type": "code",
      "execution_count": null,
      "metadata": {
        "collapsed": false
      },
      "outputs": [],
      "source": [
        "n_steps = 50\ncoverage = [spots.get_coverage(r_star)]\nfor _ in range(n_steps):\n    spots.age(dtime)\n    new_spots = solar_gen.birth_spots(dtime, r_star)\n    spots.add_spot(new_spots)\n    coverage.append(spots.get_coverage(r_star))\ntime = np.arange(n_steps+1)*dtime\nplt.plot(time, coverage)\nplt.xlabel(f'time ({time.unit})')\nplt.ylabel('Spot coverage fraction')"
      ]
    },
    {
      "cell_type": "markdown",
      "metadata": {},
      "source": [
        "## Map of sun-like spots\n\nWe can map the surface after the spots have reached equillibrium.\n\n"
      ]
    },
    {
      "cell_type": "code",
      "execution_count": null,
      "metadata": {
        "collapsed": false
      },
      "outputs": [],
      "source": [
        "fig = plt.figure()\nproj = ccrs.Mollweide(central_longitude=0)\nax = fig.add_subplot(projection=proj)\n\ntmap = spots.map_pixels(star_rad=r_star, star_teff=teff_star)\nlats, lons = spots.gridmaker.oned()\n\nspotted_fraction = spots.get_coverage(r_star)\n\nim = ax.pcolormesh(\n    lons.to_value(u.deg),\n    lats.to_value(u.deg),\n    tmap.to_value(u.K).T,\n    cmap='viridis',\n    transform=ccrs.PlateCarree()\n)\nfig.colorbar(im, ax=ax, label='$T_{eff}$ (K)')\ns = f'{spotted_fraction*100:.0f}% of surface covered by spots. Target was {target_coverage*100:.0f}%'\nfig.text(0.1, 0.2, s)"
      ]
    }
  ],
  "metadata": {
    "kernelspec": {
      "display_name": "Python 3",
      "language": "python",
      "name": "python3"
    },
    "language_info": {
      "codemirror_mode": {
        "name": "ipython",
        "version": 3
      },
      "file_extension": ".py",
      "mimetype": "text/x-python",
      "name": "python",
      "nbconvert_exporter": "python",
      "pygments_lexer": "ipython3",
      "version": "3.9.12"
    }
  },
  "nbformat": 4,
  "nbformat_minor": 0
}