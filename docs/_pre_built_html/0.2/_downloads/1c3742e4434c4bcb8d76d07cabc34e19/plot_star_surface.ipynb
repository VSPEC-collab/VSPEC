{
  "cells": [
    {
      "cell_type": "code",
      "execution_count": null,
      "metadata": {
        "collapsed": false
      },
      "outputs": [],
      "source": [
        "%matplotlib inline"
      ]
    },
    {
      "cell_type": "markdown",
      "metadata": {},
      "source": [
        "\n# Plot a map of the stellar surface\n\nThis example initializes a ``Star`` object and plots it.\n"
      ]
    },
    {
      "cell_type": "code",
      "execution_count": null,
      "metadata": {
        "collapsed": false
      },
      "outputs": [],
      "source": [
        "from astropy import units as u\nimport numpy as np\n\nfrom VSPEC import variable_star_model as vsm\nfrom VSPEC.config import MSH\n\nSEED = 10\nrng = np.random.default_rng(SEED)"
      ]
    },
    {
      "cell_type": "markdown",
      "metadata": {},
      "source": [
        "## Initialize the star\n\nFirst, let's initialize a ``Star`` object.\n\nIt needs to be populated by spots and faculae.\n\n"
      ]
    },
    {
      "cell_type": "code",
      "execution_count": null,
      "metadata": {
        "collapsed": false
      },
      "outputs": [],
      "source": [
        "n_spots = 10\nn_faculae = 10\nspot_area = 1000*MSH\nfacula_radius = 10000*u.km\nfacula_depth = 10000*u.km\n\nspots = vsm.SpotCollection(\n    *[\n        vsm.StarSpot(\n            lat=(rng.random() - 0.5)*120*u.deg,\n            lon=rng.random()*360*u.deg,\n            Amax=spot_area,\n            A0=spot_area,\n            Teff_umbra=2700*u.K,\n            Teff_penumbra=2900*u.K,\n            r_A=5.,\n            growing=False,\n            growth_rate=0./u.day,\n            decay_rate=0*MSH/u.day\n        ) for _ in range(n_spots)\n    ]\n)\n\nfaculae = vsm.FaculaCollection(\n    *[\n        vsm.Facula(\n            lat=(rng.random() - 0.5)*120*u.deg,\n            lon=rng.random()*360*u.deg,\n            r_max=facula_radius,\n            r_init=facula_radius,\n            depth=facula_radius,\n            lifetime=5*u.hr,\n            floor_teff_slope=0*u.K/u.km,\n            floor_teff_min_rad=0.1*facula_radius,\n            floor_teff_base_dteff=-500*u.K,\n            wall_teff_slope=0*u.K/u.km,\n            wall_teff_intercept=300*u.K,\n            growing=False,\n        ) for _ in range(n_faculae)\n    ]\n)\n\nstar_teff = 3300*u.K\nstar_radius = 0.15*u.R_sun\nstar_period = 40*u.day\nNlat = 500\nNlon = 1000\nld_params = dict(u1=0.3, u2=0.1)\n\nstar = vsm.Star(\n    Teff=star_teff,\n    radius=star_radius,\n    period=star_period,\n    spots=spots,\n    faculae=faculae,\n    Nlat=Nlat,\n    Nlon=Nlon,\n    **ld_params\n)"
      ]
    },
    {
      "cell_type": "markdown",
      "metadata": {},
      "source": [
        "## Simulate the disk\n\nNow let's decide a viewing angle and get an image of the surface.\n\n"
      ]
    },
    {
      "cell_type": "code",
      "execution_count": null,
      "metadata": {
        "collapsed": false
      },
      "outputs": [],
      "source": [
        "lon0 = 0*u.deg\nlat0 = 0*u.deg\n\nstar.plot_surface(lat0, lon0)"
      ]
    },
    {
      "cell_type": "markdown",
      "metadata": {},
      "source": [
        "## Add a transit\n\nLet's throw in a transiting planet just for fun.\n\n"
      ]
    },
    {
      "cell_type": "code",
      "execution_count": null,
      "metadata": {
        "collapsed": false
      },
      "outputs": [],
      "source": [
        "pl_radius = 1*u.R_earth\npl_orbit = 0.05*u.AU\ninclination = 89.8*u.deg\nphase = 180.4*u.deg\n\nstar.plot_surface(lat0, lon0, None, pl_orbit, pl_radius, phase, inclination)"
      ]
    }
  ],
  "metadata": {
    "kernelspec": {
      "display_name": "Python 3",
      "language": "python",
      "name": "python3"
    },
    "language_info": {
      "codemirror_mode": {
        "name": "ipython",
        "version": 3
      },
      "file_extension": ".py",
      "mimetype": "text/x-python",
      "name": "python",
      "nbconvert_exporter": "python",
      "pygments_lexer": "ipython3",
      "version": "3.9.12"
    }
  },
  "nbformat": 4,
  "nbformat_minor": 0
}