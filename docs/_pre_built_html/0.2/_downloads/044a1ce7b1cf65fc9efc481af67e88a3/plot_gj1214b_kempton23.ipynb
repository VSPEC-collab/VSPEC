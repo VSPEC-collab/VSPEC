{
  "cells": [
    {
      "cell_type": "code",
      "execution_count": null,
      "metadata": {
        "collapsed": false
      },
      "outputs": [],
      "source": [
        "%matplotlib inline"
      ]
    },
    {
      "cell_type": "markdown",
      "metadata": {},
      "source": [
        "\n# Observe a phase curve of a spotted star.\n\nThis example demonstrates stellar contamination of a phase curve.\n\nA phase curve with a long enough baseline can be contaminated by\nstellar variability. We take the phase curve of GJ1214 b, analyzed by :cite:t:`kempton+23`\nusing JWST MIRI-LRS, as an example.\n"
      ]
    },
    {
      "cell_type": "code",
      "execution_count": null,
      "metadata": {
        "collapsed": false
      },
      "outputs": [],
      "source": [
        "import numpy as np\nimport matplotlib.pyplot as plt\nimport matplotlib as mpl\nfrom astropy import units as u\nfrom pathlib import Path\nfrom cartopy import crs as ccrs\n\nfrom VSPEC import ObservationModel,PhaseAnalyzer\nfrom VSPEC.gcm import GCMdecoder\nfrom VSPEC import params\nfrom VSPEC.config import MSH\n\nSEED = 1214"
      ]
    },
    {
      "cell_type": "markdown",
      "metadata": {},
      "source": [
        "## Create the configurations\n\n"
      ]
    },
    {
      "cell_type": "code",
      "execution_count": null,
      "metadata": {
        "collapsed": false
      },
      "outputs": [],
      "source": [
        "# Instrument\ninst = params.InstrumentParameters.miri_lrs()\n\n# Observation\nobservation = params.ObservationParameters(\n    observation_time=41.0*u.hr,\n    integration_time=15*u.min\n)\n\n# PSG\npsg_params = params.psgParameters(\n    gcm_binning=200,\n    phase_binning=1,\n    nmax=0,\n    lmax=0,\n    continuum=['Rayleigh', 'Refraction', 'CIA_all'],\n    url='http://localhost:3000',\n    api_key=params.APIkey.none(),\n    use_molecular_signatures=True\n)\n\n# Star and Planet\nstar_teff = 3250*u.K\nstar_rad = 0.215*u.R_sun\nplanet_rad = 2.742*u.R_earth\norbit_rad = 0.01490*u.AU\norbit_period = 1.58040433*u.day\nplanet_rot_period = orbit_period\nstar_rot_period = 50 * u.day\nplanet_mass = 8.17*u.M_earth\nstar_mass = 0.178*u.M_sun\ninclination = 88.7*u.deg\n\nstart_time_before_eclipse = 2*u.hr\nangle_before_eclipse = (2*np.pi*u.rad * start_time_before_eclipse/orbit_period).to(u.deg)\ninitial_phase = 0*u.deg - angle_before_eclipse\n\nplanet_params = params.PlanetParameters(\n    name='GJ1214b',\n    radius=planet_rad,\n    gravity=params.GravityParameters('kg',planet_mass),\n    semimajor_axis=orbit_rad,\n    orbit_period=orbit_period,\n    rotation_period=planet_rot_period,\n    eccentricity=0,\n    obliquity=0*u.deg,\n    obliquity_direction=0*u.deg,\n    init_phase=initial_phase,\n    init_substellar_lon=0*u.deg\n)\n\nsystem_params = params.SystemParameters(\n    distance=14.6427*u.pc,\n    inclination=inclination,\n    phase_of_periasteron=0*u.deg\n)\n\nstar_dict = {\n    'teff': star_teff,\n    'radius': star_rad\n}\nplanet_dict = {'semimajor_axis': orbit_rad}\n\ngcm_dict = {\n    'nlayer': 30,\n    'nlon': 30,\n    'nlat': 15,\n    'epsilon': 6,\n    'albedo': 0.3,\n    'emissivity': 1.0,\n    'gamma': 1.4,\n    'psurf': 1*u.bar,\n    'ptop': 1e-5*u.bar,\n    'wind': {'U': '0 m/s','V':'0 m/s'},\n    'molecules':{'CO2':0.99}\n}\n\ngcm = params.gcmParameters.from_dict({\n    'star':star_dict,\n    'planet':planet_dict,\n    'gcm':{'vspec':gcm_dict,'mean_molec_weight':44}\n})\n\nstar_kwargs = dict(\n    psg_star_template='M',\n    teff=star_teff,\n    mass=star_mass,\n    radius=star_rad,\n    period=star_rot_period,\n    misalignment=0*u.deg,\n    misalignment_dir=0*u.deg,\n    ld=params.LimbDarkeningParameters.proxima(),\n    faculae=params.FaculaParameters.none(),\n    flares=params.FlareParameters.none(),\n    granulation=params.GranulationParameters.none(),\n    Nlat=500,Nlon=1000\n)\n\nquiet_star = params.StarParameters(\n    spots=params.SpotParameters.none(),\n    **star_kwargs\n)\nspotted_star = params.StarParameters(\n    spots=params.SpotParameters(\n        distribution='iso',\n        initial_coverage=0.2,\n        area_mean=300*MSH,\n        area_logsigma=0.2,\n        teff_umbra=2700*u.K,\n        teff_penumbra=2700*u.K,\n        equillibrium_coverage=0.2,\n        burn_in=0*u.s,\n        growth_rate=0.0/u.day,\n        decay_rate=0*MSH/u.day,\n        initial_area=10*MSH\n    ),\n    **star_kwargs\n)\n\n# Set parameters for simulation\nheader_kwargs = dict(\n    teff_min=2300*u.K,teff_max=3400*u.K,\n    seed = SEED,\n    verbose = 0\n)\ninternal_params_kwargs = dict(\n    planet=planet_params,\n    system=system_params,\n    obs=observation,\n    gcm=gcm,\n    psg=psg_params,\n    inst=inst\n)\n\nparams_quiet = params.InternalParameters(\n    header=params.Header(data_path=Path('.vspec/gj1214_quiet'),**header_kwargs),\n    star = quiet_star,\n    **internal_params_kwargs\n)\n\nparams_spotted = params.InternalParameters(\n    header=params.Header(data_path=Path('.vspec/gj1214_spotted'),**header_kwargs),\n    star = spotted_star,\n    **internal_params_kwargs\n)"
      ]
    },
    {
      "cell_type": "markdown",
      "metadata": {},
      "source": [
        "## Map the planetary surface\n\nBefore we run ``VSPEC``, let's look at the planet.\n\n\n"
      ]
    },
    {
      "cell_type": "code",
      "execution_count": null,
      "metadata": {
        "collapsed": false
      },
      "outputs": [],
      "source": [
        "gcm_data = GCMdecoder.from_psg(config=gcm.content())\n\ntsurf = gcm_data['Tsurf']\n\nfig = plt.figure()\nproj = ccrs.Robinson(central_longitude=0)\nax = fig.add_subplot(projection=proj)\n\nlats,lons = gcm_data.get_lats(),gcm_data.get_lons()\n\nim = ax.pcolormesh(lons,lats,tsurf,cmap='gist_heat',transform=ccrs.PlateCarree())\ngl = ax.gridlines(crs=ccrs.PlateCarree(),draw_labels=True,\n    color='grey', alpha=0.8, linestyle='--')\ngl.top_xlabels = False\ngl.right_ylabels = False\n\n\n_=fig.colorbar(im,ax=ax,label='Surface Temperature (K)')"
      ]
    },
    {
      "cell_type": "markdown",
      "metadata": {},
      "source": [
        "## Run the spotless model\n\n\n"
      ]
    },
    {
      "cell_type": "code",
      "execution_count": null,
      "metadata": {
        "collapsed": false
      },
      "outputs": [],
      "source": [
        "model_quiet = ObservationModel(params=params_quiet)\nmodel_quiet.build_planet()\nmodel_quiet.build_spectra()"
      ]
    },
    {
      "cell_type": "markdown",
      "metadata": {},
      "source": [
        "## Plot the lightcurve\n\n"
      ]
    },
    {
      "cell_type": "code",
      "execution_count": null,
      "metadata": {
        "collapsed": false
      },
      "outputs": [],
      "source": [
        "data_quiet = PhaseAnalyzer(model_quiet.directories['all_model'])\nflux_unit = u.Unit('W m-2 um-1')\ndef get_star(data:PhaseAnalyzer):\n    i_eclipse1 = np.argmin(data.lightcurve('total',(0,-1))[:data.N_images//4])\n    i_eclipse2 = np.argmin(data.lightcurve('total',(0,-1))[3*data.N_images//4:]) + 3*data.N_images//4\n    time = (data.time-data.time[0]).to_value(u.hr)\n    star_spec1 = data.spectrum('total',i_eclipse1).to_value(flux_unit)\n    star_spec2 = data.spectrum('total',i_eclipse2).to_value(flux_unit)\n    \n    def func(t:float):\n        m = (star_spec2 - star_spec1)/(time[i_eclipse2]-time[i_eclipse1])\n        x = t-time[i_eclipse1]\n        b = star_spec1\n        y = m * x + b\n        return y\n\n    return func\n\n\ndef plot_lc(data:PhaseAnalyzer):\n    fig,axes = plt.subplots(2,1,tight_layout=True)\n\n    axes[0].scatter((data.time-data.time[0]).to(u.hr),\n        data.lightcurve('total',(0,-1)),label='white light',s=5,c='k')\n    axes[0].set_xlabel('Time since start of observation (hour)')\n    axes[0].set_ylabel('Flux (W m-2 um-1)')\n    axes[0].legend()\n    first_four = data.time-data.time[0] <= 4*u.hour\n    axins = axes[0].inset_axes([0.08, 0.15, 0.35, 0.5])\n    axins.scatter((data.time-data.time[0]).to(u.hr)[first_four],\n        data.lightcurve('total',(0,-1))[first_four],label='white light',s=5,c='k')\n    axes[0].indicate_inset_zoom(axins)\n\n    interp = get_star(data)\n    t = (data.time-data.time[0]).to_value(u.hr)\n\n    n_steps = 10\n    colors = mpl.cm.viridis\n    indices = np.arange(start=0,stop=data.N_images,step=data.N_images//n_steps)\n\n    for index in indices:\n        star_spec = interp(t[index])\n        pl_spec = data.spectrum('total',index).to_value(flux_unit) - star_spec\n        axes[1].plot(data.wavelength,1e6*pl_spec/star_spec,c=colors(index/data.N_images))\n    axes[1].set_xlabel('Wavelength (um)')\n    axes[1].set_ylabel('Planet flux (ppm)')\n    return fig\n\nplot_lc(data_quiet).show()"
      ]
    },
    {
      "cell_type": "markdown",
      "metadata": {},
      "source": [
        "## Plot the spectroscopic phase curve\n\nWe can throw out the transit points while we're at it.\n\n"
      ]
    },
    {
      "cell_type": "code",
      "execution_count": null,
      "metadata": {
        "collapsed": false
      },
      "outputs": [],
      "source": [
        "def get_phase_map(data:PhaseAnalyzer):\n    white_light_curve = data_quiet.lightcurve('total',(0,-1),normalize=0)\n    points_to_use = white_light_curve > 0.5*(np.median(white_light_curve)+ np.min(white_light_curve))\n\n    interp = get_star(data)\n    ts = (data.time-data.time[0]).to_value(u.hr)\n\n    # get the planet flux, except plance nan during transit\n    star_im = np.array([interp(t) for t in ts]).T\n    total_im = data.total.to_value(flux_unit)\n    pl_im = np.where(\n        points_to_use,\n        total_im-star_im,\n        np.nan\n    )\n    return pl_im,star_im\n    \n\ndef plot_phasecurve(data:PhaseAnalyzer):\n    pl_im,star_im = get_phase_map(data)\n\n    fig,ax = plt.subplots(1,1)\n    im = ax.pcolormesh(\n        (data.time-data.time[0]).to_value(u.hr),\n        data.wavelength.to_value(u.um),\n        pl_im/star_im*1e6,\n        cmap='viridis'\n    )\n    fig.colorbar(im,ax=ax,label='Planet flux (ppm)')\n    ax.set_xlabel('Time since start of observation (hour)')\n    ax.set_ylabel('Wavelength (um)')\n    return fig\n\nplot_phasecurve(data_quiet).show()"
      ]
    },
    {
      "cell_type": "markdown",
      "metadata": {},
      "source": [
        "We can easily make out the phase curve because the star is static.\n\n## Run the spotted model\n\nBecause we are using the same planet parameters, we won't rerun PSG\nfor this. Instead, we will just rerun the stellar part of the code.\nIn a way this is cheating but it will save time. Be careful because we\nare overwriting our old data.\n\n"
      ]
    },
    {
      "cell_type": "code",
      "execution_count": null,
      "metadata": {
        "collapsed": false
      },
      "outputs": [],
      "source": [
        "model_spotted = ObservationModel(params_spotted)\nmodel_spotted.build_planet()\nmodel_spotted.build_spectra()\n\ndata_spotted = PhaseAnalyzer(model_spotted.directories['all_model'])"
      ]
    },
    {
      "cell_type": "markdown",
      "metadata": {},
      "source": [
        "## Plot the lightcurve, again\n\nWe redo our earlier analysis\n\n"
      ]
    },
    {
      "cell_type": "code",
      "execution_count": null,
      "metadata": {
        "collapsed": false
      },
      "outputs": [],
      "source": [
        "plot_lc(data_spotted).show()"
      ]
    },
    {
      "cell_type": "markdown",
      "metadata": {},
      "source": [
        "## And the phase curve\n\n\n"
      ]
    },
    {
      "cell_type": "code",
      "execution_count": null,
      "metadata": {
        "collapsed": false
      },
      "outputs": [],
      "source": [
        "plot_phasecurve(data_spotted).show()"
      ]
    },
    {
      "cell_type": "markdown",
      "metadata": {},
      "source": [
        "## Compare phase curves\n\n:cite:t:`kempton+23` break the spectrum up into $0.5 \\mu m$ bins\nto analyze the phase curve. We will do the same to observe the effects of\nstellar contamination.\n\n"
      ]
    },
    {
      "cell_type": "code",
      "execution_count": null,
      "metadata": {
        "collapsed": false
      },
      "outputs": [],
      "source": [
        "def get_lc(data:PhaseAnalyzer,w1:u.Quantity,w2:u.Quantity):\n    \"\"\"Get the lightcurve given a bandpass\"\"\"\n    wl = data.wavelength\n    i_left = int(np.argwhere(wl > w1)[0])\n    try:\n        i_right = int(np.argwhere(wl > w2)[0])\n    except IndexError:\n        i_right = -1\n    interp = get_star(data)\n    ts = (data.time-data.time[0]).to_value(u.hr)\n    star_im = np.array([interp(t) for t in ts]).T\n    total_im = data.total.to_value(flux_unit)\n    pl_im = total_im-star_im\n    lc = 1e6*pl_im[i_left:i_right,:]/star_im[i_left:i_right,:]\n    return lc.mean(axis=0)\n\nbin_edges = np.arange(5.0,12.0,0.5)\nn_ax = len(bin_edges)\nfig,axes = plt.subplots(n_ax,1,figsize=(7,10),sharex=True)\nfor edge,ax in zip(bin_edges,axes):\n    w1,w2 = edge*u.um,(edge+0.5)*u.um\n    quiet_lc = get_lc(data_quiet,w1,w2)\n    spotted_lc = get_lc(data_spotted,w1,w2)\n    time = (data_quiet.time - data_quiet.time[0]).to(u.hr)\n    ax.plot(time,(quiet_lc),c='xkcd:azure',label='No Spots')\n    ax.plot(time,(spotted_lc),c='xkcd:lavender',label='Spotted')\n    ax.text(0.7,0.7,f'{w1:.1f} - {w2:.1f}',transform=ax.transAxes)\n    ax.set_ylim(-100,700)\nfig.subplots_adjust(hspace=0,wspace=0)\naxes[0].legend()\naxes[-1].set_xlabel('Time (hour)')\n_ = axes[n_ax//2].set_ylabel('Planet Flux (ppm)')"
      ]
    },
    {
      "cell_type": "markdown",
      "metadata": {},
      "source": [
        "## 2D residuals\n\nLet's take a look at how much of the planet flux (from the spotted model)\nis actaully due to spots.\n\n"
      ]
    },
    {
      "cell_type": "code",
      "execution_count": null,
      "metadata": {
        "collapsed": false
      },
      "outputs": [],
      "source": [
        "pl_quiet,star_quiet = get_phase_map(data_quiet)\npl_spotted,_ = get_phase_map(data_spotted)\n\ncontribution_from_spots = pl_spotted-pl_quiet\ncontrast = (contribution_from_spots/star_quiet*1e6)\nt = (data_quiet.time - data_quiet.time[0]).to_value(u.hr)\nwl = data_quiet.wavelength.to_value(u.um)\n\nfig,ax = plt.subplots(1,1)\nim = ax.pcolormesh(t,wl,contrast)\nfig.colorbar(im,ax=ax,label='False planet flux (ppm)')\nax.set_xlabel('Time since start of observation (hour)')\n_=ax.set_ylabel('Wavelength (um)')"
      ]
    }
  ],
  "metadata": {
    "kernelspec": {
      "display_name": "Python 3",
      "language": "python",
      "name": "python3"
    },
    "language_info": {
      "codemirror_mode": {
        "name": "ipython",
        "version": 3
      },
      "file_extension": ".py",
      "mimetype": "text/x-python",
      "name": "python",
      "nbconvert_exporter": "python",
      "pygments_lexer": "ipython3",
      "version": "3.9.12"
    }
  },
  "nbformat": 4,
  "nbformat_minor": 0
}