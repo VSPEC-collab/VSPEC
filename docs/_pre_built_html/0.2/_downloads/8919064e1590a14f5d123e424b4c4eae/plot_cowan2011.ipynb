{
  "cells": [
    {
      "cell_type": "code",
      "execution_count": null,
      "metadata": {
        "collapsed": false
      },
      "outputs": [],
      "source": [
        "%matplotlib inline"
      ]
    },
    {
      "cell_type": "markdown",
      "metadata": {},
      "source": [
        "\n# Compare to Cowan & Agol (2011)\n\nThis example compares our thermal inertia model to that\nof :cite:t:`2011ApJ...726...82C`.\n"
      ]
    },
    {
      "cell_type": "code",
      "execution_count": null,
      "metadata": {
        "collapsed": false
      },
      "outputs": [],
      "source": [
        "import matplotlib.pyplot as plt\nimport numpy as np\nfrom astropy import units as u\nimport cartopy.crs as ccrs\n\nimport VSPEC.gcm.heat_transfer as ht"
      ]
    },
    {
      "cell_type": "markdown",
      "metadata": {},
      "source": [
        "## Making a surface temperature map\n\nLet's make a surface map given some basic planetary parameters.\n\n"
      ]
    },
    {
      "cell_type": "code",
      "execution_count": null,
      "metadata": {
        "collapsed": false
      },
      "outputs": [],
      "source": [
        "epsilon = 2*np.pi\nstar_teff = 5800*u.K\nalbedo = 0.3\nr_star = 1*u.R_sun\nr_orbit = 1*u.AU\n\ntmap = ht.TemperatureMap.from_planet(\n    epsilon=epsilon,\n    star_teff=star_teff,\n    albedo=albedo,\n    r_star=r_star,\n    r_orbit=r_orbit\n)\nlons = np.linspace(-180,180,90,endpoint=False)*u.deg\nlats = np.linspace(-90,90,46,endpoint=True)*u.deg\n\nlongrid,latgrid = np.meshgrid(lons,lats)\ndata = tmap.eval(lon=longrid,lat=latgrid)\n\nfig = plt.figure()\nproj = ccrs.Robinson(central_longitude=0)\nax = fig.add_subplot(projection=proj)\n\nim = ax.pcolormesh(lons.to_value(u.deg),lats.to_value(u.deg),data.to_value(u.K),cmap='gist_heat',transform=ccrs.PlateCarree())\ngl = ax.gridlines(crs=ccrs.PlateCarree(),draw_labels=True,\n    color='grey', alpha=0.8, linestyle='--')\ngl.top_xlabels = False\ngl.right_ylabels = False\n\n\n_=fig.colorbar(im,ax=ax,label='Surface Temperature (K)')"
      ]
    },
    {
      "cell_type": "markdown",
      "metadata": {},
      "source": [
        "## Compare different values of $\\epsilon$\n\nWe can recreate Figure 1 from :cite:t:`2011ApJ...726...82C`\n\n"
      ]
    },
    {
      "cell_type": "code",
      "execution_count": null,
      "metadata": {
        "collapsed": false
      },
      "outputs": [],
      "source": [
        "eps = [1e-4,0.2*np.pi,2*np.pi]\nlabel = ['0','2\\\\pi/10','2\\\\pi']\nmodes = ['ivp_reflect','ivp_reflect','bvp']\ncolors = ['b','k','r']\n\nn_points = 100\n\nfig,ax = plt.subplots(1,1)\n\nfor e,l,m,c in zip(eps,label,modes,colors):\n    lons, tsurf = ht.get_equator_curve(e,n_points,m)\n    ax.plot(lons,tsurf,color=c,label=f'$\\\\epsilon = {l}$')\n\nax.set_xlabel('$\\\\Phi$')\nax.set_ylabel('$T/T_0$')\n_=ax.legend()"
      ]
    }
  ],
  "metadata": {
    "kernelspec": {
      "display_name": "Python 3",
      "language": "python",
      "name": "python3"
    },
    "language_info": {
      "codemirror_mode": {
        "name": "ipython",
        "version": 3
      },
      "file_extension": ".py",
      "mimetype": "text/x-python",
      "name": "python",
      "nbconvert_exporter": "python",
      "pygments_lexer": "ipython3",
      "version": "3.9.12"
    }
  },
  "nbformat": 4,
  "nbformat_minor": 0
}