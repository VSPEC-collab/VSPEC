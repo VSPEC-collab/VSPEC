{
  "cells": [
    {
      "cell_type": "code",
      "execution_count": null,
      "metadata": {
        "collapsed": false
      },
      "outputs": [],
      "source": [
        "%matplotlib inline"
      ]
    },
    {
      "cell_type": "markdown",
      "metadata": {},
      "source": [
        "\n# Plot the lightcurve of a spotted star\n\nThis example plots the lightcurve caused by a\nspotted photosphere.\n"
      ]
    },
    {
      "cell_type": "code",
      "execution_count": null,
      "metadata": {
        "collapsed": false
      },
      "outputs": [],
      "source": [
        "from astropy import units as u\nimport matplotlib.pyplot as plt\n\nfrom VSPEC import ObservationModel,PhaseAnalyzer\n\nCFG_PATH = 'spot_lightcurve.yaml'"
      ]
    },
    {
      "cell_type": "markdown",
      "metadata": {},
      "source": [
        "## Initialize the VSPEC run\n\nWe read in the config file and run the model.\n\n"
      ]
    },
    {
      "cell_type": "code",
      "execution_count": null,
      "metadata": {
        "collapsed": false
      },
      "outputs": [],
      "source": [
        "model = ObservationModel.from_yaml(CFG_PATH)\nmodel.build_planet()\nmodel.build_spectra()"
      ]
    },
    {
      "cell_type": "markdown",
      "metadata": {},
      "source": [
        "## Load in the data\n\nWe can use VSPEC to read in the synthetic\ndata we just created.\n\n"
      ]
    },
    {
      "cell_type": "code",
      "execution_count": null,
      "metadata": {
        "collapsed": false
      },
      "outputs": [],
      "source": [
        "data = PhaseAnalyzer(model.directories['all_model'])"
      ]
    },
    {
      "cell_type": "markdown",
      "metadata": {},
      "source": [
        "## Get the lightcurve\n\nWe will look in a few different wavelengths.\n\n"
      ]
    },
    {
      "cell_type": "code",
      "execution_count": null,
      "metadata": {
        "collapsed": false
      },
      "outputs": [],
      "source": [
        "wl_pixels = [0,300,500,700]\ntime = data.time.to(u.day)\nfor i in wl_pixels:\n    wl = data.wavelength[i]\n    lc = data.lightcurve(\n        source='star',\n        pixel=i,\n        normalize=0\n    )\n    plt.plot(time,lc,label=f'{wl:.1f}')\nplt.legend()\nplt.xlabel(f'time ({time.unit})')\n_=plt.ylabel('Flux (normalized)')"
      ]
    }
  ],
  "metadata": {
    "kernelspec": {
      "display_name": "Python 3",
      "language": "python",
      "name": "python3"
    },
    "language_info": {
      "codemirror_mode": {
        "name": "ipython",
        "version": 3
      },
      "file_extension": ".py",
      "mimetype": "text/x-python",
      "name": "python",
      "nbconvert_exporter": "python",
      "pygments_lexer": "ipython3",
      "version": "3.9.12"
    }
  },
  "nbformat": 4,
  "nbformat_minor": 0
}