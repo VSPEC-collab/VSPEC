{
 "cells": [
  {
   "cell_type": "code",
   "execution_count": null,
   "metadata": {},
   "outputs": [],
   "source": [
    "from VSPEC import ObservationModel\n",
    "from VSPEC.analysis import PhaseAnalyzer, GCMdecoder\n",
    "from VSPEC.helpers import to_float\n",
    "import matplotlib.pyplot as plt\n",
    "from astropy import units as u, constants as c\n",
    "import cartopy.crs as ccrs\n",
    "from os import system\n",
    "from PIL import Image\n",
    "from tqdm.auto import tqdm\n",
    "import numpy as np\n",
    "\n",
    "CONFIG_FILENAME = 'analysis.cfg'"
   ]
  },
  {
   "cell_type": "code",
   "execution_count": null,
   "metadata": {},
   "outputs": [],
   "source": [
    "model = ObservationModel(CONFIG_FILENAME)\n",
    "# model.bin_spectra()\n",
    "# model.build_planet()\n",
    "# model.build_spectra()"
   ]
  },
  {
   "cell_type": "code",
   "execution_count": null,
   "metadata": {},
   "outputs": [],
   "source": [
    "data = PhaseAnalyzer(model.dirs['all_model'])"
   ]
  },
  {
   "cell_type": "code",
   "execution_count": null,
   "metadata": {},
   "outputs": [],
   "source": [
    "gcm = GCMdecoder.from_psg(model.params.gcm_path)"
   ]
  },
  {
   "cell_type": "code",
   "execution_count": null,
   "metadata": {},
   "outputs": [],
   "source": [
    "geo = model.get_observation_parameters()\n",
    "plan = model.get_observation_plan(geo)"
   ]
  },
  {
   "cell_type": "code",
   "execution_count": null,
   "metadata": {},
   "outputs": [],
   "source": [
    "def get_image(i):\n",
    "\n",
    "    fig = plt.figure(figsize=(13,17))\n",
    "    gs = fig.add_gridspec(4,6)\n",
    "    spec = fig.add_subplot(gs[0,0:-2])\n",
    "    system = fig.add_subplot(gs[0,-2:])\n",
    "    proj = ccrs.Orthographic(\n",
    "                central_longitude=to_float(plan['planet_sub_obs_lon'][i],u.deg),\n",
    "                central_latitude=to_float(plan['planet_sub_obs_lat'][i],u.deg))\n",
    "    temp = fig.add_subplot(gs[1,0:2],projection=proj, fc=\"r\")\n",
    "    temp.spines['geo']._linewidth = 0.0\n",
    "    pressure = fig.add_subplot(gs[1,2:4],projection=proj, fc=\"r\")\n",
    "    pressure.spines['geo']._linewidth = 0.0\n",
    "    h2o = fig.add_subplot(gs[1,4:],projection=proj, fc=\"r\")\n",
    "    h2o.spines['geo']._linewidth = 0.0\n",
    "    albedo = fig.add_subplot(gs[2,:2],projection=proj, fc=\"r\")\n",
    "    albedo.spines['geo']._linewidth = 0.0\n",
    "    water = fig.add_subplot(gs[2,2:4],projection=proj, fc=\"r\")\n",
    "    water.spines['geo']._linewidth = 0.0\n",
    "    water_ice = fig.add_subplot(gs[2,4:],projection=proj, fc=\"r\")\n",
    "    water_ice.spines['geo']._linewidth = 0.0\n",
    "    reflected = fig.add_subplot(gs[3,:3])\n",
    "    thermal = fig.add_subplot(gs[3,3:])\n",
    "    phase_bin = 30*u.deg\n",
    "    phase_step = np.diff(plan['phase'])[0]\n",
    "    noise_factor = np.sqrt(phase_step/phase_bin)\n",
    "    flux = (data.spectrum('thermal',i)+data.spectrum('reflected',i))/data.spectrum('total',i)*1e6\n",
    "    noise = noise_factor*data.spectrum('noise',i)/data.spectrum('total',i)*1e6\n",
    "    spec.plot(data.wavelength,to_float(flux,u.dimensionless_unscaled))\n",
    "    spec.fill_between(data.wavelength.value,\n",
    "                to_float(flux-noise,u.dimensionless_unscaled),\n",
    "                to_float(flux+noise,u.dimensionless_unscaled),color='k',alpha=0.2)\n",
    "    spec.set(xlabel='wavelength (um)',ylabel='Planet Flux (ppm)')\n",
    "    # spec.set_ylim(-3,95)\n",
    "    scale_type = 'linear'\n",
    "    spec.set_xscale(scale_type)\n",
    "    spec.set_yscale(scale_type)\n",
    "\n",
    "\n",
    "    geo.get_system_visual(plan['phase'][i],system)\n",
    "\n",
    "    var = 'Tsurf'\n",
    "    im = temp.pcolormesh(gcm.get_lons(),gcm.get_lats(),(gcm[var]),\n",
    "                transform=ccrs.PlateCarree(),\n",
    "                cmap='viridis',\n",
    "            )\n",
    "    fig.colorbar(im,ax=temp,label=var,orientation='horizontal')\n",
    "\n",
    "    var = 'Psurf'\n",
    "    im = pressure.pcolormesh(gcm.get_lons(),gcm.get_lats(),(10**gcm[var]),\n",
    "                transform=ccrs.PlateCarree(),\n",
    "                cmap='viridis',\n",
    "            )\n",
    "    fig.colorbar(im,ax=pressure,label=var,orientation='horizontal')\n",
    "\n",
    "    R = model.params.planet_radius\n",
    "    g = model.params.planet_grav*u.m/u.s**2\n",
    "    M = g*R**2/c.G\n",
    "\n",
    "    var = 'H2O'\n",
    "    im = h2o.pcolormesh(gcm.get_lons(),gcm.get_lats(),gcm.get_column_density(var,M,R).cgs,\n",
    "                transform=ccrs.PlateCarree(),\n",
    "                cmap='viridis',\n",
    "            )\n",
    "    fig.colorbar(im,ax=h2o,label=var,orientation='horizontal')\n",
    "\n",
    "    var = 'Albedo'\n",
    "    im = albedo.pcolormesh(gcm.get_lons(),gcm.get_lats(),(gcm[var]),\n",
    "                transform=ccrs.PlateCarree(),\n",
    "                cmap='viridis',\n",
    "            )\n",
    "    fig.colorbar(im,ax=albedo,label=var,orientation='horizontal')\n",
    "\n",
    "    var = 'Water'\n",
    "    im = water.pcolormesh(gcm.get_lons(),gcm.get_lats(),gcm.get_column_clouds(var,M,R),\n",
    "                transform=ccrs.PlateCarree(),\n",
    "                cmap='viridis',\n",
    "            )\n",
    "    fig.colorbar(im,ax=water,label=var,orientation='horizontal')\n",
    "\n",
    "    var = 'WaterIce'\n",
    "    im = water_ice.pcolormesh(gcm.get_lons(),gcm.get_lats(),gcm.get_column_clouds(var,M,R),\n",
    "                transform=ccrs.PlateCarree(),\n",
    "                cmap='viridis',\n",
    "            )\n",
    "    fig.colorbar(im,ax=water_ice,label=var,orientation='horizontal')\n",
    "\n",
    "    phase = data.unique_phase\n",
    "    ref = data.lightcurve('reflected',0)\n",
    "    therm = data.lightcurve('thermal',140)\n",
    "    reflected.plot(phase[:i],ref[:i])\n",
    "    reflected.scatter(phase[i],ref[i])\n",
    "    reflected.set_xlim(left=np.min(phase.value),right=np.max(phase.value))\n",
    "    reflected.set_ylim(top=np.max(ref.value)*1.05,bottom=0)\n",
    "    reflected.set(xlabel='phase',ylabel=f'flux at {data.wavelength[0]:.1f}')\n",
    "\n",
    "    thermal.plot(phase[:i],therm[:i])\n",
    "    thermal.scatter(phase[i],therm[i])\n",
    "    thermal.set_xlim(left=np.min(phase.value),right=np.max(phase.value))\n",
    "    thermal.set_ylim(top=np.max(therm.value)*1.05,bottom=np.min(therm.value)*0.9)\n",
    "    thermal.set(xlabel='phase',ylabel=f'flux at {data.wavelength[140]:.1f}')\n",
    "\n",
    "    fig.subplots_adjust(wspace=0.55)\n",
    "\n",
    "    return fig"
   ]
  },
  {
   "cell_type": "code",
   "execution_count": null,
   "metadata": {},
   "outputs": [],
   "source": [
    "get_image(1).show()"
   ]
  },
  {
   "cell_type": "code",
   "execution_count": null,
   "metadata": {},
   "outputs": [],
   "source": [
    "total = data.N_images\n",
    "system('mkdir temp')\n",
    "for i in tqdm(range(total),desc='Generating images',total=total):\n",
    "    get_image(i).savefig(f'temp/temp{i}.png',facecolor='w',dpi=120)\n",
    "    plt.close('all')\n",
    "frames = []\n",
    "for i in tqdm(range(total),desc='Building list',total=total):\n",
    "    fname = f'temp/temp{i}.png'\n",
    "    frames.append(Image.open(fname))\n",
    "frame_one = frames[0]\n",
    "frame_one.save('gcm.gif', format=\"GIF\", append_images=frames, save_all=True, duration=30, loop=True)\n",
    "system('rm -r temp')"
   ]
  },
  {
   "cell_type": "code",
   "execution_count": null,
   "metadata": {},
   "outputs": [],
   "source": [
    "i=0\n",
    "fig = plt.figure(figsize=(7,7))\n",
    "proj = ccrs.Orthographic(\n",
    "                central_longitude=to_float(plan['planet_sub_obs_lon'][i],u.deg),\n",
    "                central_latitude=to_float(plan['planet_sub_obs_lat'][i],u.deg))\n",
    "ax = fig.add_subplot(projection=proj, fc=\"r\")\n",
    "ax.spines['geo']._linewidth = 0.0\n",
    "var = 'Tsurf'\n",
    "R = model.params.planet_radius\n",
    "g = model.params.planet_grav*u.m/u.s**2\n",
    "grav_mode = model.params.planet_grav_mode\n",
    "M = g*R**2/c.G\n",
    "im = ax.pcolormesh(gcm.get_lons(),gcm.get_lats(),(gcm.get_column_density('H2O',M,R)).cgs,\n",
    "            transform=ccrs.PlateCarree(),\n",
    "            cmap='viridis',\n",
    "        )\n",
    "fig.colorbar(im,ax=ax,label=var)\n",
    "lons = np.linspace(0,360,91)\n",
    "ax.plot(lons,lons*0,c='w',transform=ccrs.PlateCarree(),ls='--')\n",
    "lats = np.linspace(-90,90,45)\n",
    "ax.plot(lats*0,lats,c='w',transform=ccrs.PlateCarree(),ls='--')\n"
   ]
  }
 ],
 "metadata": {
  "kernelspec": {
   "display_name": "Python 3.9.12 ('base')",
   "language": "python",
   "name": "python3"
  },
  "language_info": {
   "codemirror_mode": {
    "name": "ipython",
    "version": 3
   },
   "file_extension": ".py",
   "mimetype": "text/x-python",
   "name": "python",
   "nbconvert_exporter": "python",
   "pygments_lexer": "ipython3",
   "version": "3.9.12"
  },
  "orig_nbformat": 4,
  "vscode": {
   "interpreter": {
    "hash": "a881c44cacd4bbbf839be660c688ced33edf73c9abf125cc2b16ee77cb5e3123"
   }
  }
 },
 "nbformat": 4,
 "nbformat_minor": 2
}
