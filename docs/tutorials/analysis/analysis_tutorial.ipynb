{
 "cells": [
  {
   "cell_type": "code",
   "execution_count": null,
   "metadata": {},
   "outputs": [],
   "source": [
    "from VSPEC import ObservationModel\n",
    "from VSPEC.analysis import PhaseAnalyzer, GCMdecoder\n",
    "from VSPEC.helpers import to_float\n",
    "import matplotlib.pyplot as plt\n",
    "from astropy import units as u\n",
    "import cartopy.crs as ccrs\n",
    "from os import system\n",
    "from PIL import Image\n",
    "import tqdm\n",
    "import numpy as np\n",
    "\n",
    "CONFIG_FILENAME = 'analysis.cfg'"
   ]
  },
  {
   "cell_type": "code",
   "execution_count": null,
   "metadata": {},
   "outputs": [],
   "source": [
    "model = ObservationModel(CONFIG_FILENAME)\n",
    "# model.bin_spectra()\n",
    "model.build_planet()\n",
    "model.build_spectra()"
   ]
  },
  {
   "cell_type": "code",
   "execution_count": null,
   "metadata": {},
   "outputs": [],
   "source": [
    "data = PhaseAnalyzer(model.dirs['all_model'])"
   ]
  },
  {
   "cell_type": "code",
   "execution_count": null,
   "metadata": {},
   "outputs": [],
   "source": [
    "gcm = GCMdecoder.from_psg(model.params.gcm_path)"
   ]
  },
  {
   "cell_type": "code",
   "execution_count": null,
   "metadata": {},
   "outputs": [],
   "source": [
    "geo = model.get_observation_parameters()\n",
    "plan = model.get_observation_plan(geo)"
   ]
  },
  {
   "cell_type": "code",
   "execution_count": null,
   "metadata": {},
   "outputs": [],
   "source": [
    "def get_image(i):\n",
    "\n",
    "    fig = plt.figure(figsize=(13,13))\n",
    "    gs = fig.add_gridspec(3,6)\n",
    "    spec = fig.add_subplot(gs[0,0:-2])\n",
    "    system = fig.add_subplot(gs[0,-2:])\n",
    "    proj = ccrs.Orthographic(\n",
    "                central_longitude=to_float(plan['planet_sub_obs_lon'][i],u.deg),\n",
    "                central_latitude=to_float(plan['planet_sub_obs_lat'][i],u.deg))\n",
    "    temp = fig.add_subplot(gs[1,0:2],projection=proj, fc=\"r\")\n",
    "    temp.spines['geo']._linewidth = 0.0\n",
    "    pressure = fig.add_subplot(gs[1,2:4],projection=proj, fc=\"r\")\n",
    "    pressure.spines['geo']._linewidth = 0.0\n",
    "    h2o = fig.add_subplot(gs[1,4:],projection=proj, fc=\"r\")\n",
    "    h2o.spines['geo']._linewidth = 0.0\n",
    "    albedo = fig.add_subplot(gs[2,:2],projection=proj, fc=\"r\")\n",
    "    albedo.spines['geo']._linewidth = 0.0\n",
    "    water = fig.add_subplot(gs[2,2:4],projection=proj, fc=\"r\")\n",
    "    water.spines['geo']._linewidth = 0.0\n",
    "    water_ice = fig.add_subplot(gs[2,4:],projection=proj, fc=\"r\")\n",
    "    water_ice.spines['geo']._linewidth = 0.0\n",
    "\n",
    "\n",
    "    spec.plot(data.wavelength,data.spectrum('total',i))\n",
    "    spec.set(xlabel='wavelength (um)',ylabel='Flambda')\n",
    "\n",
    "    geo.get_system_visual(plan['phase'][i],system)\n",
    "\n",
    "    var = 'Tsurf'\n",
    "    im = temp.pcolormesh(gcm.get_lons(),gcm.get_lats(),(gcm[var]),\n",
    "                transform=ccrs.PlateCarree(),\n",
    "                cmap='viridis',\n",
    "            )\n",
    "    fig.colorbar(im,ax=temp,label=var,orientation='horizontal')\n",
    "\n",
    "    var = 'Psurf'\n",
    "    im = pressure.pcolormesh(gcm.get_lons(),gcm.get_lats(),(gcm[var]),\n",
    "                transform=ccrs.PlateCarree(),\n",
    "                cmap='viridis',\n",
    "            )\n",
    "    fig.colorbar(im,ax=pressure,label=var,orientation='horizontal')\n",
    "\n",
    "    var = 'H2O'\n",
    "    im = h2o.pcolormesh(gcm.get_lons(),gcm.get_lats(),(gcm[var][0]),\n",
    "                transform=ccrs.PlateCarree(),\n",
    "                cmap='viridis',\n",
    "            )\n",
    "    fig.colorbar(im,ax=h2o,label=var,orientation='horizontal')\n",
    "\n",
    "    var = 'Albedo'\n",
    "    im = albedo.pcolormesh(gcm.get_lons(),gcm.get_lats(),(gcm[var]),\n",
    "                transform=ccrs.PlateCarree(),\n",
    "                cmap='viridis',\n",
    "            )\n",
    "    fig.colorbar(im,ax=albedo,label=var,orientation='horizontal')\n",
    "\n",
    "    var = 'Water'\n",
    "    im = water.pcolormesh(gcm.get_lons(),gcm.get_lats(),np.sum(gcm[var],axis=0),\n",
    "                transform=ccrs.PlateCarree(),\n",
    "                cmap='viridis',\n",
    "            )\n",
    "    fig.colorbar(im,ax=water,label=var,orientation='horizontal')\n",
    "\n",
    "    var = 'WaterIce'\n",
    "    im = water_ice.pcolormesh(gcm.get_lons(),gcm.get_lats(),np.sum(gcm[var],axis=0),\n",
    "                transform=ccrs.PlateCarree(),\n",
    "                cmap='viridis',\n",
    "            )\n",
    "    fig.colorbar(im,ax=water_ice,label=var,orientation='horizontal')\n",
    "    fig.subplots_adjust(wspace=0.1)\n",
    "    return fig\n",
    "\n",
    "\n",
    "\n"
   ]
  },
  {
   "cell_type": "code",
   "execution_count": null,
   "metadata": {},
   "outputs": [],
   "source": [
    "get_image(200).show()"
   ]
  },
  {
   "cell_type": "code",
   "execution_count": null,
   "metadata": {},
   "outputs": [],
   "source": [
    "total = data.N_images\n",
    "system('mkdir temp')\n",
    "for i in tqdm(range(total),desc='Generating images',total=total):\n",
    "    get_image(i).savefig(f'temp/temp{i}.png',facecolor='w',dpi=120)\n",
    "    plt.close('all')\n",
    "frames = []\n",
    "for i in tqdm(range(total),desc='Building list',total=total):\n",
    "    fname = f'temp/temp{i}.png'\n",
    "    frames.append(Image.open(fname))\n",
    "frame_one = frames[0]\n",
    "frame_one.save('gcm.gif', format=\"GIF\", append_images=frames, save_all=True, duration=30, loop=True)\n",
    "system('rm -r temp')"
   ]
  },
  {
   "cell_type": "markdown",
   "metadata": {},
   "source": [
    "<img src='gcm.gif'>"
   ]
  },
  {
   "cell_type": "code",
   "execution_count": null,
   "metadata": {},
   "outputs": [],
   "source": [
    "i=100\n",
    "fig = plt.figure(figsize=(7,7))\n",
    "proj = ccrs.Orthographic(\n",
    "                central_longitude=to_float(plan['planet_sub_obs_lon'][i],u.deg),\n",
    "                central_latitude=to_float(plan['planet_sub_obs_lat'][i],u.deg))\n",
    "ax = fig.add_subplot(projection=proj, fc=\"r\")\n",
    "ax.spines['geo']._linewidth = 0.0\n",
    "var = 'CH4'\n",
    "im = ax.pcolormesh(gcm.get_lons(),gcm.get_lats(),np.mean(gcm[var],axis=0),\n",
    "            transform=ccrs.PlateCarree(),\n",
    "            cmap='viridis',\n",
    "        )\n",
    "fig.colorbar(im,ax=ax,label=var)\n",
    "lons = np.linspace(0,360,91)\n",
    "ax.plot(lons,lons*0,c='w',transform=ccrs.PlateCarree(),ls='--')\n",
    "lats = np.linspace(-90,90,45)\n",
    "ax.plot(lats*0,lats,c='w',transform=ccrs.PlateCarree(),ls='--')\n"
   ]
  },
  {
   "cell_type": "code",
   "execution_count": null,
   "metadata": {},
   "outputs": [],
   "source": []
  }
 ],
 "metadata": {
  "kernelspec": {
   "display_name": "Python 3.9.12 ('base')",
   "language": "python",
   "name": "python3"
  },
  "language_info": {
   "codemirror_mode": {
    "name": "ipython",
    "version": 3
   },
   "file_extension": ".py",
   "mimetype": "text/x-python",
   "name": "python",
   "nbconvert_exporter": "python",
   "pygments_lexer": "ipython3",
   "version": "3.9.12"
  },
  "orig_nbformat": 4,
  "vscode": {
   "interpreter": {
    "hash": "a881c44cacd4bbbf839be660c688ced33edf73c9abf125cc2b16ee77cb5e3123"
   }
  }
 },
 "nbformat": 4,
 "nbformat_minor": 2
}
